{
 "metadata": {
  "name": "introducing_IPython_notebook"
 },
 "nbformat": 3,
 "nbformat_minor": 0,
 "worksheets": [
  {
   "cells": [
    {
     "cell_type": "markdown",
     "metadata": {},
     "source": [
      "IPython notebook \n",
      "----------------\n",
      "\n",
      "This program provides a convenient way to calculate and present \n",
      "the results of your calculations.\n",
      "\n",
      "In addition, it has some advanced features that make it a *very*\n",
      "useful tool to learn how to program using the Python language:\n",
      "\n",
      "* nice presentation of Python code \n",
      "* nice presentation of comments in Markdown\n",
      "* tab completion\n",
      "* code completion\n",
      "* easy to convert to a pure Python module\n",
      "* easy to convert to an HTML file to share on the internet\n",
      "\n",
      "The first step is opening up the help box.  Type the following *key sequence*: \n",
      "\n",
      "`Ctrl-m h`\n",
      "\n",
      "If you are new to *key sequences* this means press the `Ctrl` button and hold it down.\n",
      "\n",
      "This transforms all buttons on the keyboard to mean something different.\n",
      "\n",
      "While holding the `Ctrl` button, press the `m` key and release both keys.\n",
      "\n",
      "This tells IPython notebook that the next sequence of keys that is pressed should \n",
      "do something special.\n",
      "\n",
      "Now we press `h` to open the help dialog.  \n",
      "\n",
      "The only special keystrokes that do not start with `Ctrl-m` are `Shift-Enter` and `Ctrl-Enter`.  These run the code in the current cell and either proceed to the next cell or stay in the current cell.\n",
      "\n",
      "To get used to hitting `Shift-Enter`, try out the following **Math Trick**:"
     ]
    },
    {
     "cell_type": "heading",
     "level": 1,
     "metadata": {},
     "source": [
      "A Math Trick"
     ]
    },
    {
     "cell_type": "markdown",
     "metadata": {},
     "source": [
      "Adapted from [http://easycalculation.com/funny/tricks/tricks3.php](http://easycalculation.com/funny/tricks/tricks3.php).\n",
      "\n",
      "Choose any three digit number and multiply it by 80."
     ]
    },
    {
     "cell_type": "code",
     "collapsed": false,
     "input": [
      "342*80"
     ],
     "language": "python",
     "metadata": {},
     "outputs": [
      {
       "output_type": "pyout",
       "prompt_number": 7,
       "text": [
        "27360"
       ]
      }
     ],
     "prompt_number": 7
    },
    {
     "cell_type": "markdown",
     "metadata": {},
     "source": [
      "Add 1 to the result."
     ]
    },
    {
     "cell_type": "code",
     "collapsed": false,
     "input": [
      "Out[7]+1"
     ],
     "language": "python",
     "metadata": {},
     "outputs": [
      {
       "output_type": "pyout",
       "prompt_number": 10,
       "text": [
        "27361"
       ]
      }
     ],
     "prompt_number": 10
    },
    {
     "cell_type": "markdown",
     "metadata": {},
     "source": [
      "Multiply the result by 250."
     ]
    },
    {
     "cell_type": "code",
     "collapsed": false,
     "input": [
      "Out[10]*250"
     ],
     "language": "python",
     "metadata": {},
     "outputs": [
      {
       "output_type": "pyout",
       "prompt_number": 11,
       "text": [
        "6840250"
       ]
      }
     ],
     "prompt_number": 11
    },
    {
     "cell_type": "markdown",
     "metadata": {},
     "source": [
      "Choose a four digit a number ending in 0. Add it twice to the result above."
     ]
    },
    {
     "cell_type": "code",
     "collapsed": false,
     "input": [
      "Out[11]+40+40\n"
     ],
     "language": "python",
     "metadata": {},
     "outputs": [
      {
       "output_type": "pyout",
       "prompt_number": 12,
       "text": [
        "6840330"
       ]
      }
     ],
     "prompt_number": 12
    },
    {
     "cell_type": "markdown",
     "metadata": {},
     "source": [
      "Subtract 250 from the result."
     ]
    },
    {
     "cell_type": "code",
     "collapsed": false,
     "input": [
      "Out[12]-250"
     ],
     "language": "python",
     "metadata": {},
     "outputs": [
      {
       "output_type": "pyout",
       "prompt_number": 13,
       "text": [
        "6840080"
       ]
      }
     ],
     "prompt_number": 13
    },
    {
     "cell_type": "markdown",
     "metadata": {},
     "source": [
      "Divide the above by 2."
     ]
    },
    {
     "cell_type": "code",
     "collapsed": false,
     "input": [],
     "language": "python",
     "metadata": {},
     "outputs": [
      {
       "output_type": "pyout",
       "prompt_number": 14,
       "text": [
        "3420040"
       ]
      }
     ],
     "prompt_number": 14
    },
    {
     "cell_type": "markdown",
     "metadata": {},
     "source": [
      "The result should be a concatenation of the numbers you chose!"
     ]
    }
   ],
   "metadata": {}
  }
 ]
}