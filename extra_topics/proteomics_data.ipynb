{
 "metadata": {
  "name": "proteomics_data"
 },
 "nbformat": 3,
 "nbformat_minor": 0,
 "worksheets": [
  {
   "cells": [
    {
     "cell_type": "markdown",
     "metadata": {},
     "source": [
      "### Import some proteomics data.\n",
      "\n",
      "To make this easier, `pandas` provides a `read_csv` method that easily turns this data into a useful form."
     ]
    },
    {
     "cell_type": "code",
     "collapsed": false,
     "input": [
      "import pandas\n",
      "pandas.set_option('expand_frame_repr', True)\n",
      "pandas.set_option('line_width', 80)\n",
      "pandas.__version__"
     ],
     "language": "python",
     "metadata": {},
     "outputs": []
    },
    {
     "cell_type": "code",
     "collapsed": false,
     "input": [
      "filename = 'data/proteomics_data.csv'\n",
      "data_frame = pandas.read_csv(filename, index_col=0, header=0)\n",
      "data_frame"
     ],
     "language": "python",
     "metadata": {},
     "outputs": []
    },
    {
     "cell_type": "markdown",
     "metadata": {},
     "source": [
      "### Look at the data\n",
      "\n",
      "Lets have a quick look at the statistics in both dimensions."
     ]
    },
    {
     "cell_type": "code",
     "collapsed": false,
     "input": [
      "data_frame.describe()"
     ],
     "language": "python",
     "metadata": {},
     "outputs": []
    },
    {
     "cell_type": "markdown",
     "metadata": {},
     "source": [
      "Large `pandas.DataFrame` objects need to be printed out to view.  The line_width was \n",
      "set above."
     ]
    },
    {
     "cell_type": "code",
     "collapsed": false,
     "input": [
      "print(data_frame.T.describe())"
     ],
     "language": "python",
     "metadata": {},
     "outputs": []
    },
    {
     "cell_type": "markdown",
     "metadata": {},
     "source": [
      "Try to plot the data for the two proteins with the lowest standard deviation (for their five measumrents)."
     ]
    }
   ],
   "metadata": {}
  }
 ]
}