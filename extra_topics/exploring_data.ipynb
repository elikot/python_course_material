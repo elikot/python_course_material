{
 "metadata": {
  "name": "exploring_data"
 },
 "nbformat": 3,
 "nbformat_minor": 0,
 "worksheets": [
  {
   "cells": [
    {
     "cell_type": "markdown",
     "metadata": {},
     "source": [
      "#### Preliminary note:\n",
      "\n",
      "Instead of using `--pylab inline` to plot (which produces raster graphics), \n",
      "I prefer to make `svg` versions, show these and save the plot in another format.  \n",
      "\n",
      "A `tools` module has been added and includes a `show` function.  The `show` function allows for simultaneous viewing as a vector graphic image and saving the image in another format."
     ]
    },
    {
     "cell_type": "code",
     "collapsed": false,
     "input": [
      "import sys\n",
      "sys.path.append('../code/')\n",
      "from tools import show"
     ],
     "language": "python",
     "metadata": {},
     "outputs": []
    },
    {
     "cell_type": "markdown",
     "metadata": {},
     "source": [
      "### Importing data using the `csv` module\n",
      "\n",
      "Let's import some protein abundance data from a tab separated file (specified by `\\t` in Python)."
     ]
    },
    {
     "cell_type": "code",
     "collapsed": false,
     "input": [
      "import csv\n",
      "\n",
      "data_file = 'de_Godoy_Nature_2008.txt'\n",
      "\n",
      "# Uncomment below to use the other tab separated data_file\n",
      "#data_file = 'integrated_dataset.txt'\n",
      "\n",
      "filename = 'data/{0}'.format(data_file)\n",
      "\n",
      "all_data = []\n",
      "f = open(filename, 'r')\n",
      "r = csv.reader(f, delimiter='\\t')\n",
      "for id_number, yeast_code, ppm_value in r:\n",
      "    all_data.append(float(ppm_value))\n",
      "f.close()"
     ],
     "language": "python",
     "metadata": {},
     "outputs": []
    },
    {
     "cell_type": "markdown",
     "metadata": {},
     "source": [
      "### Importing data using `pandas`\n",
      "\n",
      "The `pandas` module provides another set of tools to import data."
     ]
    },
    {
     "cell_type": "code",
     "collapsed": false,
     "input": [
      "import pandas\n",
      "pandas_data = pandas.read_csv(filename, sep='\\t', index_col=1, header=None)\n",
      "pandas_df = pandas_data['X.3'] # Our data is located in the third column"
     ],
     "language": "python",
     "metadata": {},
     "outputs": []
    },
    {
     "cell_type": "markdown",
     "metadata": {},
     "source": [
      "### Look at the data\n",
      "\n",
      "The first step in data exploration is often a quick \n",
      "statistical description.  The `pandas` library is useful for this and works the same for both types of data."
     ]
    },
    {
     "cell_type": "code",
     "collapsed": false,
     "input": [
      "csv_df = pandas.DataFrame(all_data)\n",
      "print('csv_data:\\n{0}\\n'.format(csv_df.describe()))\n",
      "print('pandas_data:\\n{0}\\n'.format(pandas_df.describe()))"
     ],
     "language": "python",
     "metadata": {},
     "outputs": []
    },
    {
     "cell_type": "markdown",
     "metadata": {},
     "source": [
      "### Transform the data\n",
      "\n",
      "We can see from the `pandas.DataFrame.describe` method that this data has a very wide range of abundance values.  A common method to view this data together is to transform it with a logarithmic function."
     ]
    },
    {
     "cell_type": "code",
     "collapsed": false,
     "input": [
      "import math \n",
      "\n",
      "#log_data = []\n",
      "#for value in all_data:\n",
      "#    log_data.append(math.log(value))\n",
      "\n",
      "# We can replace the above code with a list comprehension\n",
      "log_data = [math.log(v) for v in all_data]"
     ],
     "language": "python",
     "metadata": {},
     "outputs": []
    },
    {
     "cell_type": "markdown",
     "metadata": {},
     "source": [
      "### Plot the data\n",
      "\n",
      "Now we can plot the data in a histogram using `matplotlib` and the magic `show` function."
     ]
    },
    {
     "cell_type": "code",
     "collapsed": false,
     "input": [
      "import matplotlib.pyplot as plt\n",
      "\n",
      "fig = plt.figure(figsize=(6,4))\n",
      "\n",
      "n, bins, patches = plt.hist(log_data, 200, normed=0, histtype='bar')\n",
      "\n",
      "# Removes black lines from rectangles\n",
      "# and sets every second one to be red. \n",
      "# Adds an alpha value to each rectangle.\n",
      "for index, p in enumerate(patches):\n",
      "    p.set_linewidth(0)\n",
      "    if index%2:\n",
      "        p.set_color('red')\n",
      "    p.set_alpha(0.5)\n",
      "        \n",
      "plt.title('Histogram of log(protein abundance in ppm)')\n",
      "plt.xlabel('log(protein abundance in ppm)')\n",
      "plt.ylabel('Number of proteins in bin')\n",
      "show(fig, filename='histogram_of_data.pdf')"
     ],
     "language": "python",
     "metadata": {},
     "outputs": []
    }
   ],
   "metadata": {}
  }
 ]
}