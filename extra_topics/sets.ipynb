{
 "metadata": {
  "name": "sets"
 },
 "nbformat": 3,
 "nbformat_minor": 0,
 "worksheets": [
  {
   "cells": [
    {
     "cell_type": "markdown",
     "metadata": {},
     "source": [
      "Let us take a look at a mindmap of sets:"
     ]
    },
    {
     "cell_type": "code",
     "collapsed": false,
     "input": [
      "from IPython.display import display, SVG\n",
      "\n",
      "def show(filename):\n",
      "    display(SVG(filename=filename))\n",
      "\n",
      "show('../images/set_mindmap.svg')"
     ],
     "language": "python",
     "metadata": {},
     "outputs": []
    },
    {
     "cell_type": "markdown",
     "metadata": {},
     "source": [
      "Sets in Python are constructed with curly braces.  \n",
      "The members of sets are unique, but the type does not matter."
     ]
    },
    {
     "cell_type": "code",
     "collapsed": false,
     "input": [
      "a = {1,2,3}"
     ],
     "language": "python",
     "metadata": {},
     "outputs": []
    },
    {
     "cell_type": "markdown",
     "metadata": {},
     "source": [
      "Iterables can be converted to sets using the set() function:"
     ]
    },
    {
     "cell_type": "code",
     "collapsed": false,
     "input": [
      "c = set([1,4,5])\n",
      "d = set((1,6,7))"
     ],
     "language": "python",
     "metadata": {},
     "outputs": []
    },
    {
     "cell_type": "markdown",
     "metadata": {},
     "source": [
      "Both dictionaries and sets use curly braces, so do not confuse them."
     ]
    },
    {
     "cell_type": "code",
     "collapsed": false,
     "input": [
      "b = {1:1, 4:2, 5:3}\n",
      "c2 = set(b) # Keys are the primary iterable of dictionaries.\n",
      "a2 = set(b.values()) # Values are also possible.\n",
      "c2 == c, a2 == a"
     ],
     "language": "python",
     "metadata": {},
     "outputs": []
    },
    {
     "cell_type": "markdown",
     "metadata": {},
     "source": [
      "Set objects provide useful methods:"
     ]
    },
    {
     "cell_type": "code",
     "collapsed": false,
     "input": [
      "assert c.intersection(a) == a.intersection(c)\n",
      "c.intersection(a)"
     ],
     "language": "python",
     "metadata": {},
     "outputs": []
    },
    {
     "cell_type": "code",
     "collapsed": false,
     "input": [
      "assert a.union(c) == c.union(a)\n",
      "c.union(a)"
     ],
     "language": "python",
     "metadata": {},
     "outputs": []
    },
    {
     "cell_type": "markdown",
     "metadata": {},
     "source": [
      "The difference method means relative compliment:"
     ]
    },
    {
     "cell_type": "code",
     "collapsed": false,
     "input": [
      "c.difference(a), a.difference(c)"
     ],
     "language": "python",
     "metadata": {},
     "outputs": []
    },
    {
     "cell_type": "markdown",
     "metadata": {},
     "source": [
      "The symmetric difference of A and B can be found as follows:"
     ]
    },
    {
     "cell_type": "code",
     "collapsed": false,
     "input": [
      "c.difference(a).union(a.difference(c))"
     ],
     "language": "python",
     "metadata": {},
     "outputs": []
    },
    {
     "cell_type": "markdown",
     "metadata": {},
     "source": [
      "The powerset of a set can be computed easily:"
     ]
    },
    {
     "cell_type": "code",
     "collapsed": false,
     "input": [
      "from itertools import chain, combinations\n",
      "\n",
      "def assert_set(it):\n",
      "    if len(it) != len(set(it)): \n",
      "        raise UserWarning('Please provide a proper set', it)\n",
      "        \n",
      "def powerset(it):\n",
      "    assert_set(it)\n",
      "    return chain.from_iterable(combinations(it, r) for r in range(len(it)+1))\n",
      "\n",
      "for s in [a,c,d]:\n",
      "    out = 'Set {0} contains the following sets:'.format(tuple(s))\n",
      "    for it in powerset(s):\n",
      "        out += '\\n    {0}'.format(tuple(it))\n",
      "    print(out) "
     ],
     "language": "python",
     "metadata": {},
     "outputs": []
    }
   ],
   "metadata": {}
  }
 ]
}