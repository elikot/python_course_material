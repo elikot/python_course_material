{
 "metadata": {
  "name": "biopython"
 },
 "nbformat": 3,
 "nbformat_minor": 0,
 "worksheets": [
  {
   "cells": [
    {
     "cell_type": "markdown",
     "metadata": {},
     "source": [
      "## Introduction to Biopython \n",
      "\n",
      "Biopython (Bio) is a collection of low level bioinformatics tools that enable one to work with sequences.\n",
      "\n",
      "### Exploring an unfamiluar software library\n",
      "\n",
      "Objects created using software libraries are often *complicated*.\n",
      "\n",
      "*Complicated* objects have lots of functionality that is useful, however, it means you need to learn how to use them.  With some practice this is quite easy because the *complicated* objects from useful software libraries are well documented.  \n",
      "\n",
      "**But how do we find the documentation?**\n",
      "\n",
      "Typically you can google the name of the software library together with *API*. *API* means application programming interface, and is the technical documentation of how to use the software (as opposed to tutorial style documentation).  \n",
      "\n",
      "In this case the biopython *API* documentation is found at:\n",
      "\n",
      "http://biopython.org/DIST/docs/api/\n",
      "\n",
      "Beyond the *API* documentation you usually only need the `type` function (see below). \n",
      "\n",
      "One of the primary functions of biopython is to enable one to read in sequences from various file formats.  Below we read in a series of sequences from an example fasta file, but how would we ever have learned how to do this?\n",
      "\n",
      "Explore how to use `Bio.SeqIO`.\n",
      "\n",
      "- Hint: try searching for `SeqIO`\n",
      "- Click on the module documentation `Bio.SeqIO`\n",
      "- Now search for `parse`.\n",
      "\n",
      "#### What we learned from the *API* documentation:\n",
      "\n",
      "- `SeqIO.parse` returns a *iterator* which allows us to access the sequences one by one without reading them all into memory at once."
     ]
    },
    {
     "cell_type": "code",
     "collapsed": false,
     "input": [
      "# sudo pip install biopython - biopythoni install\n",
      "# sudo apt-get install python-biopython\n",
      "# pypi.python.org - pip commandiga downloadib sealt asju, k\u00f5ik packaged sealt\n",
      "\n",
      "from Bio import SeqIO \n",
      "from Bio import pairwise2\n",
      "match = 2 # each match +2\n",
      "mismatch_penalty = -1 #mismatch\n",
      "open_penalty = -100 # \n",
      "extend_penalty = -100 #\n",
      "f = open('data/example.fasta', 'rU')\n",
      "maximum=0\n",
      "\n",
      "seq_gen = list(SeqIO.parse(f, 'fasta')) # parse lugemiseks, liigub l\u00e4bi data, loeng\n",
      "for left in seq_gen:\n",
      "    for right in seq_gen:\n",
      "        #print \"Comparing:\",left.id, \"with\", right.id\n",
      "        if left!=right:\n",
      "            alignments = pairwise2.align.localms(left.seq, right.seq,\n",
      "                                     match, \n",
      "                                     mismatch_penalty, \n",
      "                                     open_penalty, \n",
      "                                     extend_penalty)\n",
      "            for a in alignments:  ## score n\u00e4idatud floatiga, guugelda,et n\u00e4ha, milline n\u00e4itab skoori.\n",
      "                #print \"rida:\", a\n",
      "                if a[2]>=maximum:\n",
      "                    maximum=a[2]\n",
      "                    sequence1=a[0]\n",
      "                    sequence2=a[1]\n",
      "                #print a[2]\n",
      "    \n",
      "        \n",
      "        \n",
      "                                       \n",
      "print \"Maximum score:\", maximum\n",
      "print \"Best sequence pair:\", sequence1, \" and \", sequence2\n",
      "import sys\n",
      "sys.path.append('../code/')\n",
      "from tools import make_sequence_table\n",
      "\n",
      "seq0_str = sequence1.tostring() # convert seq to string\n",
      "seq1_str = sequence2.tostring()\n",
      "\n",
      "seq_table = make_sequence_table(seq0_str, seq1_str)\n",
      "seq_table\n",
      "    \n",
      "\n",
      "#type(seq_gen)"
     ],
     "language": "python",
     "metadata": {},
     "outputs": [
      {
       "output_type": "stream",
       "stream": "stdout",
       "text": [
        "Maximum score: 105.0\n",
        "Best sequence pair: KYRTWEEFTRAAEKLYQADPMKVRVVLKYRHCDGNLCIKVTDDVVCLLYRTDQAQDVKKIEKFHSQLMRLMELKVTDNKECLKFKTDQAQEAKKMEKLNNIFFTLM  and  -FQTWEEFSRAAEKLYLADPMKVRVVLKYRHVDGNLCIKVTDDLVCLVYRTDQAQDVKKIEKF-------------------------------------------\n"
       ]
      },
      {
       "html": [
        "<table>\n",
        "<tr><td style=\"background-color:LightGrey\">K</td><td style=\"background-color:LightGrey\">Y</td><td style=\"background-color:LightGrey\">R</td><td style=\"background-color:LightGrey\">T</td><td style=\"background-color:LightGrey\">W</td><td style=\"background-color:LightGrey\">E</td><td style=\"background-color:LightGrey\">E</td><td style=\"background-color:LightGrey\">F</td><td style=\"background-color:LightGrey\">T</td><td style=\"background-color:LightGrey\">R</td><td style=\"background-color:LightGrey\">A</td><td style=\"background-color:LightGrey\">A</td><td style=\"background-color:LightGrey\">E</td><td style=\"background-color:LightGrey\">K</td><td style=\"background-color:LightGrey\">L</td><td style=\"background-color:LightGrey\">Y</td><td style=\"background-color:LightGrey\">Q</td><td style=\"background-color:LightGrey\">A</td><td style=\"background-color:LightGrey\">D</td><td style=\"background-color:LightGrey\">P</td><td style=\"background-color:LightGrey\">M</td><td style=\"background-color:LightGrey\">K</td><td style=\"background-color:LightGrey\">V</td><td style=\"background-color:LightGrey\">R</td><td style=\"background-color:LightGrey\">V</td><td style=\"background-color:LightGrey\">V</td><td style=\"background-color:LightGrey\">L</td><td style=\"background-color:LightGrey\">K</td><td style=\"background-color:LightGrey\">Y</td><td style=\"background-color:LightGrey\">R</td></tr>\n",
        "<tr><td style=\"background-color:LightYellow; color:red\">-</td><td style=\"background-color:LightYellow; color:red\">F</td><td style=\"background-color:LightYellow; color:red\">Q</td><td style=\"background-color:LightYellow; color:black\">T</td><td style=\"background-color:LightYellow; color:black\">W</td><td style=\"background-color:LightYellow; color:black\">E</td><td style=\"background-color:LightYellow; color:black\">E</td><td style=\"background-color:LightYellow; color:black\">F</td><td style=\"background-color:LightYellow; color:red\">S</td><td style=\"background-color:LightYellow; color:black\">R</td><td style=\"background-color:LightYellow; color:black\">A</td><td style=\"background-color:LightYellow; color:black\">A</td><td style=\"background-color:LightYellow; color:black\">E</td><td style=\"background-color:LightYellow; color:black\">K</td><td style=\"background-color:LightYellow; color:black\">L</td><td style=\"background-color:LightYellow; color:black\">Y</td><td style=\"background-color:LightYellow; color:red\">L</td><td style=\"background-color:LightYellow; color:black\">A</td><td style=\"background-color:LightYellow; color:black\">D</td><td style=\"background-color:LightYellow; color:black\">P</td><td style=\"background-color:LightYellow; color:black\">M</td><td style=\"background-color:LightYellow; color:black\">K</td><td style=\"background-color:LightYellow; color:black\">V</td><td style=\"background-color:LightYellow; color:black\">R</td><td style=\"background-color:LightYellow; color:black\">V</td><td style=\"background-color:LightYellow; color:black\">V</td><td style=\"background-color:LightYellow; color:black\">L</td><td style=\"background-color:LightYellow; color:black\">K</td><td style=\"background-color:LightYellow; color:black\">Y</td><td style=\"background-color:LightYellow; color:black\">R</td></tr>\n",
        "<tr><td ></td><td ></td><td ></td><td ></td><td ></td><td ></td><td ></td><td ></td><td ></td><td ></td><td ></td><td ></td><td ></td><td ></td><td ></td><td ></td><td ></td><td ></td><td ></td><td ></td><td ></td><td ></td><td ></td><td ></td><td ></td><td ></td><td ></td><td ></td><td ></td><td ></td></tr>\n",
        "<tr><td style=\"background-color:LightGrey\">H</td><td style=\"background-color:LightGrey\">C</td><td style=\"background-color:LightGrey\">D</td><td style=\"background-color:LightGrey\">G</td><td style=\"background-color:LightGrey\">N</td><td style=\"background-color:LightGrey\">L</td><td style=\"background-color:LightGrey\">C</td><td style=\"background-color:LightGrey\">I</td><td style=\"background-color:LightGrey\">K</td><td style=\"background-color:LightGrey\">V</td><td style=\"background-color:LightGrey\">T</td><td style=\"background-color:LightGrey\">D</td><td style=\"background-color:LightGrey\">D</td><td style=\"background-color:LightGrey\">V</td><td style=\"background-color:LightGrey\">V</td><td style=\"background-color:LightGrey\">C</td><td style=\"background-color:LightGrey\">L</td><td style=\"background-color:LightGrey\">L</td><td style=\"background-color:LightGrey\">Y</td><td style=\"background-color:LightGrey\">R</td><td style=\"background-color:LightGrey\">T</td><td style=\"background-color:LightGrey\">D</td><td style=\"background-color:LightGrey\">Q</td><td style=\"background-color:LightGrey\">A</td><td style=\"background-color:LightGrey\">Q</td><td style=\"background-color:LightGrey\">D</td><td style=\"background-color:LightGrey\">V</td><td style=\"background-color:LightGrey\">K</td><td style=\"background-color:LightGrey\">K</td><td style=\"background-color:LightGrey\">I</td></tr>\n",
        "<tr><td style=\"background-color:LightYellow; color:black\">H</td><td style=\"background-color:LightYellow; color:red\">V</td><td style=\"background-color:LightYellow; color:black\">D</td><td style=\"background-color:LightYellow; color:black\">G</td><td style=\"background-color:LightYellow; color:black\">N</td><td style=\"background-color:LightYellow; color:black\">L</td><td style=\"background-color:LightYellow; color:black\">C</td><td style=\"background-color:LightYellow; color:black\">I</td><td style=\"background-color:LightYellow; color:black\">K</td><td style=\"background-color:LightYellow; color:black\">V</td><td style=\"background-color:LightYellow; color:black\">T</td><td style=\"background-color:LightYellow; color:black\">D</td><td style=\"background-color:LightYellow; color:black\">D</td><td style=\"background-color:LightYellow; color:red\">L</td><td style=\"background-color:LightYellow; color:black\">V</td><td style=\"background-color:LightYellow; color:black\">C</td><td style=\"background-color:LightYellow; color:black\">L</td><td style=\"background-color:LightYellow; color:red\">V</td><td style=\"background-color:LightYellow; color:black\">Y</td><td style=\"background-color:LightYellow; color:black\">R</td><td style=\"background-color:LightYellow; color:black\">T</td><td style=\"background-color:LightYellow; color:black\">D</td><td style=\"background-color:LightYellow; color:black\">Q</td><td style=\"background-color:LightYellow; color:black\">A</td><td style=\"background-color:LightYellow; color:black\">Q</td><td style=\"background-color:LightYellow; color:black\">D</td><td style=\"background-color:LightYellow; color:black\">V</td><td style=\"background-color:LightYellow; color:black\">K</td><td style=\"background-color:LightYellow; color:black\">K</td><td style=\"background-color:LightYellow; color:black\">I</td></tr>\n",
        "<tr><td ></td><td ></td><td ></td><td ></td><td ></td><td ></td><td ></td><td ></td><td ></td><td ></td><td ></td><td ></td><td ></td><td ></td><td ></td><td ></td><td ></td><td ></td><td ></td><td ></td><td ></td><td ></td><td ></td><td ></td><td ></td><td ></td><td ></td><td ></td><td ></td><td ></td></tr>\n",
        "<tr><td style=\"background-color:LightGrey\">E</td><td style=\"background-color:LightGrey\">K</td><td style=\"background-color:LightGrey\">F</td><td style=\"background-color:LightGrey\">H</td><td style=\"background-color:LightGrey\">S</td><td style=\"background-color:LightGrey\">Q</td><td style=\"background-color:LightGrey\">L</td><td style=\"background-color:LightGrey\">M</td><td style=\"background-color:LightGrey\">R</td><td style=\"background-color:LightGrey\">L</td><td style=\"background-color:LightGrey\">M</td><td style=\"background-color:LightGrey\">E</td><td style=\"background-color:LightGrey\">L</td><td style=\"background-color:LightGrey\">K</td><td style=\"background-color:LightGrey\">V</td><td style=\"background-color:LightGrey\">T</td><td style=\"background-color:LightGrey\">D</td><td style=\"background-color:LightGrey\">N</td><td style=\"background-color:LightGrey\">K</td><td style=\"background-color:LightGrey\">E</td><td style=\"background-color:LightGrey\">C</td><td style=\"background-color:LightGrey\">L</td><td style=\"background-color:LightGrey\">K</td><td style=\"background-color:LightGrey\">F</td><td style=\"background-color:LightGrey\">K</td><td style=\"background-color:LightGrey\">T</td><td style=\"background-color:LightGrey\">D</td><td style=\"background-color:LightGrey\">Q</td><td style=\"background-color:LightGrey\">A</td><td style=\"background-color:LightGrey\">Q</td></tr>\n",
        "<tr><td style=\"background-color:LightYellow; color:black\">E</td><td style=\"background-color:LightYellow; color:black\">K</td><td style=\"background-color:LightYellow; color:black\">F</td><td style=\"background-color:LightYellow; color:red\">-</td><td style=\"background-color:LightYellow; color:red\">-</td><td style=\"background-color:LightYellow; color:red\">-</td><td style=\"background-color:LightYellow; color:red\">-</td><td style=\"background-color:LightYellow; color:red\">-</td><td style=\"background-color:LightYellow; color:red\">-</td><td style=\"background-color:LightYellow; color:red\">-</td><td style=\"background-color:LightYellow; color:red\">-</td><td style=\"background-color:LightYellow; color:red\">-</td><td style=\"background-color:LightYellow; color:red\">-</td><td style=\"background-color:LightYellow; color:red\">-</td><td style=\"background-color:LightYellow; color:red\">-</td><td style=\"background-color:LightYellow; color:red\">-</td><td style=\"background-color:LightYellow; color:red\">-</td><td style=\"background-color:LightYellow; color:red\">-</td><td style=\"background-color:LightYellow; color:red\">-</td><td style=\"background-color:LightYellow; color:red\">-</td><td style=\"background-color:LightYellow; color:red\">-</td><td style=\"background-color:LightYellow; color:red\">-</td><td style=\"background-color:LightYellow; color:red\">-</td><td style=\"background-color:LightYellow; color:red\">-</td><td style=\"background-color:LightYellow; color:red\">-</td><td style=\"background-color:LightYellow; color:red\">-</td><td style=\"background-color:LightYellow; color:red\">-</td><td style=\"background-color:LightYellow; color:red\">-</td><td style=\"background-color:LightYellow; color:red\">-</td><td style=\"background-color:LightYellow; color:red\">-</td></tr>\n",
        "<tr><td ></td><td ></td><td ></td><td ></td><td ></td><td ></td><td ></td><td ></td><td ></td><td ></td><td ></td><td ></td><td ></td><td ></td><td ></td><td ></td><td ></td><td ></td><td ></td><td ></td><td ></td><td ></td><td ></td><td ></td><td ></td><td ></td><td ></td><td ></td><td ></td><td ></td></tr>\n",
        "<tr><td style=\"background-color:LightGrey\">E</td><td style=\"background-color:LightGrey\">A</td><td style=\"background-color:LightGrey\">K</td><td style=\"background-color:LightGrey\">K</td><td style=\"background-color:LightGrey\">M</td><td style=\"background-color:LightGrey\">E</td><td style=\"background-color:LightGrey\">K</td><td style=\"background-color:LightGrey\">L</td><td style=\"background-color:LightGrey\">N</td><td style=\"background-color:LightGrey\">N</td><td style=\"background-color:LightGrey\">I</td><td style=\"background-color:LightGrey\">F</td><td style=\"background-color:LightGrey\">F</td><td style=\"background-color:LightGrey\">T</td><td style=\"background-color:LightGrey\">L</td><td style=\"background-color:LightGrey\">M</td></tr>\n",
        "<tr><td style=\"background-color:LightYellow; color:red\">-</td><td style=\"background-color:LightYellow; color:red\">-</td><td style=\"background-color:LightYellow; color:red\">-</td><td style=\"background-color:LightYellow; color:red\">-</td><td style=\"background-color:LightYellow; color:red\">-</td><td style=\"background-color:LightYellow; color:red\">-</td><td style=\"background-color:LightYellow; color:red\">-</td><td style=\"background-color:LightYellow; color:red\">-</td><td style=\"background-color:LightYellow; color:red\">-</td><td style=\"background-color:LightYellow; color:red\">-</td><td style=\"background-color:LightYellow; color:red\">-</td><td style=\"background-color:LightYellow; color:red\">-</td><td style=\"background-color:LightYellow; color:red\">-</td><td style=\"background-color:LightYellow; color:red\">-</td><td style=\"background-color:LightYellow; color:red\">-</td><td style=\"background-color:LightYellow; color:red\">-</td></tr>\n",
        "<tr><td ></td><td ></td><td ></td><td ></td><td ></td><td ></td><td ></td><td ></td><td ></td><td ></td><td ></td><td ></td><td ></td><td ></td><td ></td><td ></td></tr>\n",
        "</table>"
       ],
       "output_type": "pyout",
       "prompt_number": 51,
       "text": [
        "<ipytables.Table at 0x99b6f8c>"
       ]
      }
     ],
     "prompt_number": 51
    },
    {
     "cell_type": "markdown",
     "metadata": {},
     "source": [
      "We can use the *iterator* to get the first two sequences in `example.fasta`:"
     ]
    },
    {
     "cell_type": "code",
     "collapsed": false,
     "input": [
      "#seq0 = seq_gen.next()\n",
      "#type(seq0)\n",
      "#seq1 = seq_gen.next() \n",
      "\n",
      "#print seq0.format(\"fasta\")\n",
      "#print seq1.format(\"fasta\")"
     ],
     "language": "python",
     "metadata": {},
     "outputs": [],
     "prompt_number": 14
    },
    {
     "cell_type": "markdown",
     "metadata": {},
     "source": [
      "### Sequence alignment\n",
      "\n",
      "Biopython also provides tools to align sequences.  In this case we want to perform a local alignment without introducing any new gaps.  \n",
      "\n",
      "Explore how to use `Bio.pairwise2`.\n",
      "\n",
      "- Hint: search for `pairwise2` in the *API*\n",
      "\n",
      "#### What we learned from the *API* documentation:\n",
      "\n",
      "- Local alignments are provided by the `pairwise2.align.localms` function.\n",
      "- To prevent gaps we supply the local alignment function with `open` and `extend` penalties. \n",
      "- The alignment algorithm provides a list of possible alignments.  These are ordered by score with the best score first.\n",
      "\n",
      "With this information we know to take the first alignment from this list."
     ]
    },
    {
     "cell_type": "code",
     "collapsed": false,
     "input": [
      "match = 2 # each match +2\n",
      "mismatch_penalty = -1 #mismatch\n",
      "open_penalty = -100 # \n",
      "extend_penalty = -100 #\n",
      "    \n",
      "alignments = pairwise2.align.localms(seq0, seq1, \n",
      "                                     match, \n",
      "                                     mismatch_penalty, \n",
      "                                     open_penalty, \n",
      "                                     extend_penalty)\n",
      "##localsms - match score, same for both\n",
      "first_alignment = alignments[0]\n",
      "#print first_alignment"
     ],
     "language": "python",
     "metadata": {},
     "outputs": [
      {
       "ename": "NameError",
       "evalue": "name 'seq1' is not defined",
       "output_type": "pyerr",
       "traceback": [
        "\u001b[0;31m---------------------------------------------------------------------------\u001b[0m\n\u001b[0;31mNameError\u001b[0m                                 Traceback (most recent call last)",
        "\u001b[0;32m<ipython-input-16-7c17bb680c67>\u001b[0m in \u001b[0;36m<module>\u001b[0;34m()\u001b[0m\n\u001b[1;32m      4\u001b[0m \u001b[0mextend_penalty\u001b[0m \u001b[0;34m=\u001b[0m \u001b[0;34m-\u001b[0m\u001b[0;36m100\u001b[0m \u001b[0;31m#\u001b[0m\u001b[0;34m\u001b[0m\u001b[0m\n\u001b[1;32m      5\u001b[0m \u001b[0;34m\u001b[0m\u001b[0m\n\u001b[0;32m----> 6\u001b[0;31m alignments = pairwise2.align.localms(seq0, seq1, \n\u001b[0m\u001b[1;32m      7\u001b[0m                                      \u001b[0mmatch\u001b[0m\u001b[0;34m,\u001b[0m\u001b[0;34m\u001b[0m\u001b[0m\n\u001b[1;32m      8\u001b[0m                                      \u001b[0mmismatch_penalty\u001b[0m\u001b[0;34m,\u001b[0m\u001b[0;34m\u001b[0m\u001b[0m\n",
        "\u001b[0;31mNameError\u001b[0m: name 'seq1' is not defined"
       ]
      }
     ],
     "prompt_number": 16
    },
    {
     "cell_type": "markdown",
     "metadata": {},
     "source": [
      "Now, we need to learn how to use the output of `pairwise2.align.localms`.  For this we just print out the type of the objects it returns and see what they do using the *API* documentation."
     ]
    },
    {
     "cell_type": "code",
     "collapsed": false,
     "input": [
      "fa = first_alignment \n",
      "\n",
      "print(type(fa))\n",
      "\n",
      "for index, item in enumerate(fa):\n",
      "    print(index, type(item))\n",
      "    \n",
      "print(type(fa[0]))\n",
      "\n",
      "# At this point you need to refer to the API documentation for `Bio.SeqRecord`.  \n",
      "\n",
      "# Now we can check that `seq` returns a `Bio.Seq` object.\n",
      "print(type(fa[0].seq)) # "
     ],
     "language": "python",
     "metadata": {},
     "outputs": [
      {
       "output_type": "stream",
       "stream": "stdout",
       "text": [
        "<type 'tuple'>\n",
        "(0, <class 'Bio.SeqRecord.SeqRecord'>)\n",
        "(1, <class 'Bio.SeqRecord.SeqRecord'>)\n",
        "(2, <type 'float'>)\n",
        "(3, <type 'int'>)\n",
        "(4, <type 'int'>)\n",
        "<class 'Bio.SeqRecord.SeqRecord'>\n",
        "<class 'Bio.Seq.Seq'>\n"
       ]
      }
     ],
     "prompt_number": 4
    },
    {
     "cell_type": "markdown",
     "metadata": {},
     "source": [
      "#### What we learned from `type`:\n",
      "\n",
      "- Each alignment is a tuple.\n",
      "- The first two elements in the alignment are `Bio.SeqRecord` objects.\n",
      "\n",
      "#### What we learnd from the *API* documentation:\n",
      "\n",
      "- `Bio.SeqRecord` objects contain `Bio.Seq` objects which hold the actual sequence.  \n",
      "- `Bio.Seq` objects provide a method to convert this sequence into a string (`tostring`).\n",
      "\n",
      "### Visualize the alignment\n",
      "\n",
      "To make it easier to visualize the alignment, we can make an HTML table which allows us to both colour differences and break the alignment into managable chunks.  \n",
      "\n",
      "Do you remember how to get help regarding how to use a new function (`make_sequence_table`)?"
     ]
    },
    {
     "cell_type": "code",
     "collapsed": false,
     "input": [
      "import sys\n",
      "sys.path.append('../code/')\n",
      "from tools import make_sequence_table\n",
      "\n",
      "seq0_str = first_alignment[0].seq.tostring() # convert seq to string\n",
      "seq1_str = first_alignment[1].seq.tostring()\n",
      "\n",
      "seq_table = make_sequence_table(seq0_str, seq1_str)\n",
      "seq_table"
     ],
     "language": "python",
     "metadata": {},
     "outputs": [
      {
       "html": [
        "<table>\n",
        "<tr><td style=\"background-color:LightGrey\">-</td><td style=\"background-color:LightGrey\">F</td><td style=\"background-color:LightGrey\">Q</td><td style=\"background-color:LightGrey\">T</td><td style=\"background-color:LightGrey\">W</td><td style=\"background-color:LightGrey\">E</td><td style=\"background-color:LightGrey\">E</td><td style=\"background-color:LightGrey\">F</td><td style=\"background-color:LightGrey\">S</td><td style=\"background-color:LightGrey\">R</td><td style=\"background-color:LightGrey\">A</td><td style=\"background-color:LightGrey\">A</td><td style=\"background-color:LightGrey\">E</td><td style=\"background-color:LightGrey\">K</td><td style=\"background-color:LightGrey\">L</td><td style=\"background-color:LightGrey\">Y</td><td style=\"background-color:LightGrey\">L</td><td style=\"background-color:LightGrey\">A</td><td style=\"background-color:LightGrey\">D</td><td style=\"background-color:LightGrey\">P</td><td style=\"background-color:LightGrey\">M</td><td style=\"background-color:LightGrey\">K</td><td style=\"background-color:LightGrey\">V</td><td style=\"background-color:LightGrey\">R</td><td style=\"background-color:LightGrey\">V</td><td style=\"background-color:LightGrey\">V</td><td style=\"background-color:LightGrey\">L</td><td style=\"background-color:LightGrey\">K</td><td style=\"background-color:LightGrey\">Y</td><td style=\"background-color:LightGrey\">R</td></tr>\n",
        "<tr><td style=\"background-color:LightYellow; color:black\">K</td><td style=\"background-color:LightYellow; color:red\">Y</td><td style=\"background-color:LightYellow; color:red\">R</td><td style=\"background-color:LightYellow; color:black\">T</td><td style=\"background-color:LightYellow; color:black\">W</td><td style=\"background-color:LightYellow; color:black\">E</td><td style=\"background-color:LightYellow; color:black\">E</td><td style=\"background-color:LightYellow; color:black\">F</td><td style=\"background-color:LightYellow; color:red\">T</td><td style=\"background-color:LightYellow; color:black\">R</td><td style=\"background-color:LightYellow; color:black\">A</td><td style=\"background-color:LightYellow; color:black\">A</td><td style=\"background-color:LightYellow; color:black\">E</td><td style=\"background-color:LightYellow; color:black\">K</td><td style=\"background-color:LightYellow; color:black\">L</td><td style=\"background-color:LightYellow; color:black\">Y</td><td style=\"background-color:LightYellow; color:red\">Q</td><td style=\"background-color:LightYellow; color:black\">A</td><td style=\"background-color:LightYellow; color:black\">D</td><td style=\"background-color:LightYellow; color:black\">P</td><td style=\"background-color:LightYellow; color:black\">M</td><td style=\"background-color:LightYellow; color:black\">K</td><td style=\"background-color:LightYellow; color:black\">V</td><td style=\"background-color:LightYellow; color:black\">R</td><td style=\"background-color:LightYellow; color:black\">V</td><td style=\"background-color:LightYellow; color:black\">V</td><td style=\"background-color:LightYellow; color:black\">L</td><td style=\"background-color:LightYellow; color:black\">K</td><td style=\"background-color:LightYellow; color:black\">Y</td><td style=\"background-color:LightYellow; color:black\">R</td></tr>\n",
        "<tr><td ></td><td ></td><td ></td><td ></td><td ></td><td ></td><td ></td><td ></td><td ></td><td ></td><td ></td><td ></td><td ></td><td ></td><td ></td><td ></td><td ></td><td ></td><td ></td><td ></td><td ></td><td ></td><td ></td><td ></td><td ></td><td ></td><td ></td><td ></td><td ></td><td ></td></tr>\n",
        "<tr><td style=\"background-color:LightGrey\">H</td><td style=\"background-color:LightGrey\">V</td><td style=\"background-color:LightGrey\">D</td><td style=\"background-color:LightGrey\">G</td><td style=\"background-color:LightGrey\">N</td><td style=\"background-color:LightGrey\">L</td><td style=\"background-color:LightGrey\">C</td><td style=\"background-color:LightGrey\">I</td><td style=\"background-color:LightGrey\">K</td><td style=\"background-color:LightGrey\">V</td><td style=\"background-color:LightGrey\">T</td><td style=\"background-color:LightGrey\">D</td><td style=\"background-color:LightGrey\">D</td><td style=\"background-color:LightGrey\">L</td><td style=\"background-color:LightGrey\">V</td><td style=\"background-color:LightGrey\">C</td><td style=\"background-color:LightGrey\">L</td><td style=\"background-color:LightGrey\">V</td><td style=\"background-color:LightGrey\">Y</td><td style=\"background-color:LightGrey\">R</td><td style=\"background-color:LightGrey\">T</td><td style=\"background-color:LightGrey\">D</td><td style=\"background-color:LightGrey\">Q</td><td style=\"background-color:LightGrey\">A</td><td style=\"background-color:LightGrey\">Q</td><td style=\"background-color:LightGrey\">D</td><td style=\"background-color:LightGrey\">V</td><td style=\"background-color:LightGrey\">K</td><td style=\"background-color:LightGrey\">K</td><td style=\"background-color:LightGrey\">I</td></tr>\n",
        "<tr><td style=\"background-color:LightYellow; color:black\">H</td><td style=\"background-color:LightYellow; color:red\">C</td><td style=\"background-color:LightYellow; color:black\">D</td><td style=\"background-color:LightYellow; color:black\">G</td><td style=\"background-color:LightYellow; color:black\">N</td><td style=\"background-color:LightYellow; color:black\">L</td><td style=\"background-color:LightYellow; color:black\">C</td><td style=\"background-color:LightYellow; color:black\">I</td><td style=\"background-color:LightYellow; color:black\">K</td><td style=\"background-color:LightYellow; color:black\">V</td><td style=\"background-color:LightYellow; color:black\">T</td><td style=\"background-color:LightYellow; color:black\">D</td><td style=\"background-color:LightYellow; color:black\">D</td><td style=\"background-color:LightYellow; color:red\">V</td><td style=\"background-color:LightYellow; color:black\">V</td><td style=\"background-color:LightYellow; color:black\">C</td><td style=\"background-color:LightYellow; color:black\">L</td><td style=\"background-color:LightYellow; color:red\">L</td><td style=\"background-color:LightYellow; color:black\">Y</td><td style=\"background-color:LightYellow; color:black\">R</td><td style=\"background-color:LightYellow; color:black\">T</td><td style=\"background-color:LightYellow; color:black\">D</td><td style=\"background-color:LightYellow; color:black\">Q</td><td style=\"background-color:LightYellow; color:black\">A</td><td style=\"background-color:LightYellow; color:black\">Q</td><td style=\"background-color:LightYellow; color:black\">D</td><td style=\"background-color:LightYellow; color:black\">V</td><td style=\"background-color:LightYellow; color:black\">K</td><td style=\"background-color:LightYellow; color:black\">K</td><td style=\"background-color:LightYellow; color:black\">I</td></tr>\n",
        "<tr><td ></td><td ></td><td ></td><td ></td><td ></td><td ></td><td ></td><td ></td><td ></td><td ></td><td ></td><td ></td><td ></td><td ></td><td ></td><td ></td><td ></td><td ></td><td ></td><td ></td><td ></td><td ></td><td ></td><td ></td><td ></td><td ></td><td ></td><td ></td><td ></td><td ></td></tr>\n",
        "<tr><td style=\"background-color:LightGrey\">E</td><td style=\"background-color:LightGrey\">K</td><td style=\"background-color:LightGrey\">F</td><td style=\"background-color:LightGrey\">-</td><td style=\"background-color:LightGrey\">-</td><td style=\"background-color:LightGrey\">-</td><td style=\"background-color:LightGrey\">-</td><td style=\"background-color:LightGrey\">-</td><td style=\"background-color:LightGrey\">-</td><td style=\"background-color:LightGrey\">-</td><td style=\"background-color:LightGrey\">-</td><td style=\"background-color:LightGrey\">-</td><td style=\"background-color:LightGrey\">-</td><td style=\"background-color:LightGrey\">-</td><td style=\"background-color:LightGrey\">-</td><td style=\"background-color:LightGrey\">-</td><td style=\"background-color:LightGrey\">-</td><td style=\"background-color:LightGrey\">-</td><td style=\"background-color:LightGrey\">-</td><td style=\"background-color:LightGrey\">-</td><td style=\"background-color:LightGrey\">-</td><td style=\"background-color:LightGrey\">-</td><td style=\"background-color:LightGrey\">-</td><td style=\"background-color:LightGrey\">-</td><td style=\"background-color:LightGrey\">-</td><td style=\"background-color:LightGrey\">-</td><td style=\"background-color:LightGrey\">-</td><td style=\"background-color:LightGrey\">-</td><td style=\"background-color:LightGrey\">-</td><td style=\"background-color:LightGrey\">-</td></tr>\n",
        "<tr><td style=\"background-color:LightYellow; color:black\">E</td><td style=\"background-color:LightYellow; color:black\">K</td><td style=\"background-color:LightYellow; color:black\">F</td><td style=\"background-color:LightYellow; color:black\">H</td><td style=\"background-color:LightYellow; color:black\">S</td><td style=\"background-color:LightYellow; color:black\">Q</td><td style=\"background-color:LightYellow; color:black\">L</td><td style=\"background-color:LightYellow; color:black\">M</td><td style=\"background-color:LightYellow; color:black\">R</td><td style=\"background-color:LightYellow; color:black\">L</td><td style=\"background-color:LightYellow; color:black\">M</td><td style=\"background-color:LightYellow; color:black\">E</td><td style=\"background-color:LightYellow; color:black\">L</td><td style=\"background-color:LightYellow; color:black\">K</td><td style=\"background-color:LightYellow; color:black\">V</td><td style=\"background-color:LightYellow; color:black\">T</td><td style=\"background-color:LightYellow; color:black\">D</td><td style=\"background-color:LightYellow; color:black\">N</td><td style=\"background-color:LightYellow; color:black\">K</td><td style=\"background-color:LightYellow; color:black\">E</td><td style=\"background-color:LightYellow; color:black\">C</td><td style=\"background-color:LightYellow; color:black\">L</td><td style=\"background-color:LightYellow; color:black\">K</td><td style=\"background-color:LightYellow; color:black\">F</td><td style=\"background-color:LightYellow; color:black\">K</td><td style=\"background-color:LightYellow; color:black\">T</td><td style=\"background-color:LightYellow; color:black\">D</td><td style=\"background-color:LightYellow; color:black\">Q</td><td style=\"background-color:LightYellow; color:black\">A</td><td style=\"background-color:LightYellow; color:black\">Q</td></tr>\n",
        "<tr><td ></td><td ></td><td ></td><td ></td><td ></td><td ></td><td ></td><td ></td><td ></td><td ></td><td ></td><td ></td><td ></td><td ></td><td ></td><td ></td><td ></td><td ></td><td ></td><td ></td><td ></td><td ></td><td ></td><td ></td><td ></td><td ></td><td ></td><td ></td><td ></td><td ></td></tr>\n",
        "<tr><td style=\"background-color:LightGrey\">-</td><td style=\"background-color:LightGrey\">-</td><td style=\"background-color:LightGrey\">-</td><td style=\"background-color:LightGrey\">-</td><td style=\"background-color:LightGrey\">-</td><td style=\"background-color:LightGrey\">-</td><td style=\"background-color:LightGrey\">-</td><td style=\"background-color:LightGrey\">-</td><td style=\"background-color:LightGrey\">-</td><td style=\"background-color:LightGrey\">-</td><td style=\"background-color:LightGrey\">-</td><td style=\"background-color:LightGrey\">-</td><td style=\"background-color:LightGrey\">-</td><td style=\"background-color:LightGrey\">-</td><td style=\"background-color:LightGrey\">-</td><td style=\"background-color:LightGrey\">-</td></tr>\n",
        "<tr><td style=\"background-color:LightYellow; color:black\">E</td><td style=\"background-color:LightYellow; color:black\">A</td><td style=\"background-color:LightYellow; color:black\">K</td><td style=\"background-color:LightYellow; color:black\">K</td><td style=\"background-color:LightYellow; color:black\">M</td><td style=\"background-color:LightYellow; color:black\">E</td><td style=\"background-color:LightYellow; color:black\">K</td><td style=\"background-color:LightYellow; color:black\">L</td><td style=\"background-color:LightYellow; color:black\">N</td><td style=\"background-color:LightYellow; color:black\">N</td><td style=\"background-color:LightYellow; color:black\">I</td><td style=\"background-color:LightYellow; color:black\">F</td><td style=\"background-color:LightYellow; color:black\">F</td><td style=\"background-color:LightYellow; color:black\">T</td><td style=\"background-color:LightYellow; color:black\">L</td><td style=\"background-color:LightYellow; color:black\">M</td></tr>\n",
        "<tr><td ></td><td ></td><td ></td><td ></td><td ></td><td ></td><td ></td><td ></td><td ></td><td ></td><td ></td><td ></td><td ></td><td ></td><td ></td><td ></td></tr>\n",
        "</table>"
       ],
       "output_type": "pyout",
       "prompt_number": 5,
       "text": [
        "<ipytables.Table at 0x9eb240c>"
       ]
      }
     ],
     "prompt_number": 5
    },
    {
     "cell_type": "markdown",
     "metadata": {},
     "source": [
      "### Follow up exercises:\n",
      "\n",
      "Which sequences from `example.fasta` are the most similuar?\n",
      "\n",
      "Hint:  Try to use the alignment score..."
     ]
    },
    {
     "cell_type": "code",
     "collapsed": false,
     "input": [
      "ls"
     ],
     "language": "python",
     "metadata": {},
     "outputs": [
      {
       "output_type": "stream",
       "stream": "stdout",
       "text": [
        "biopython.ipynb                   kinetics.ipynb         sympy.ipynb\r\n",
        "\u001b[0m\u001b[01;34mdata\u001b[0m/                             proteomics_data.ipynb  tables.ipynb\r\n",
        "exploring_data.ipynb              README.md\r\n",
        "fitting_a_function_to_data.ipynb  sets.ipynb\r\n"
       ]
      }
     ],
     "prompt_number": 81
    },
    {
     "cell_type": "code",
     "collapsed": false,
     "input": [],
     "language": "python",
     "metadata": {},
     "outputs": []
    }
   ],
   "metadata": {}
  }
 ]
}