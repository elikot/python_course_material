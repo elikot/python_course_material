{
 "metadata": {
  "name": "Tables_In_IPython_notebook"
 },
 "nbformat": 3,
 "nbformat_minor": 0,
 "worksheets": [
  {
   "cells": [
    {
     "cell_type": "markdown",
     "metadata": {},
     "source": [
      "Tables can be made using the ipytables module in the code directory\n",
      "-------------------------------------------------------------------\n",
      "\n",
      "The code directory must be added to the system path before it can be imported."
     ]
    },
    {
     "cell_type": "code",
     "collapsed": false,
     "input": [
      "import sys\n",
      "sys.path.append('../code/')\n",
      "from ipytables import Table, TableCell, TableHeaderRow"
     ],
     "language": "python",
     "metadata": {},
     "outputs": [],
     "prompt_number": 1
    },
    {
     "cell_type": "markdown",
     "metadata": {},
     "source": [
      "### One can make a simple table like this:"
     ]
    },
    {
     "cell_type": "code",
     "collapsed": false,
     "input": [
      "Table((4, 1, 8),\n",
      "      (9, 7, 3),\n",
      "      (5, 2, 6))"
     ],
     "language": "python",
     "metadata": {},
     "outputs": [
      {
       "html": [
        "<table>\n",
        "<tr><td >4</td><td >1</td><td >8</td></tr>\n",
        "<tr><td >9</td><td >7</td><td >3</td></tr>\n",
        "<tr><td >5</td><td >2</td><td >6</td></tr>\n",
        "</table>"
       ],
       "output_type": "pyout",
       "prompt_number": 2,
       "text": [
        "<ipytables.Table at 0x2e7ccd0>"
       ]
      }
     ],
     "prompt_number": 2
    },
    {
     "cell_type": "markdown",
     "metadata": {},
     "source": [
      "### Or add computed values to a table like this:"
     ]
    },
    {
     "cell_type": "code",
     "collapsed": false,
     "input": [
      "t = Table(TableHeaderRow('number', 'square', 'cube'))\n",
      "for x in range(1, 11):\n",
      "    t.append_row((x, x**2, x**3))\n",
      "t"
     ],
     "language": "python",
     "metadata": {},
     "outputs": [
      {
       "html": [
        "<table>\n",
        "<tr><th >number</th><th >square</th><th >cube</th></tr>\n",
        "<tr><td >1</td><td >1</td><td >1</td></tr>\n",
        "<tr><td >2</td><td >4</td><td >8</td></tr>\n",
        "<tr><td >3</td><td >9</td><td >27</td></tr>\n",
        "<tr><td >4</td><td >16</td><td >64</td></tr>\n",
        "<tr><td >5</td><td >25</td><td >125</td></tr>\n",
        "<tr><td >6</td><td >36</td><td >216</td></tr>\n",
        "<tr><td >7</td><td >49</td><td >343</td></tr>\n",
        "<tr><td >8</td><td >64</td><td >512</td></tr>\n",
        "<tr><td >9</td><td >81</td><td >729</td></tr>\n",
        "<tr><td >10</td><td >100</td><td >1000</td></tr>\n",
        "</table>"
       ],
       "output_type": "pyout",
       "prompt_number": 3,
       "text": [
        "<ipytables.Table at 0x2e81690>"
       ]
      }
     ],
     "prompt_number": 3
    },
    {
     "cell_type": "markdown",
     "metadata": {},
     "source": [
      "### It is also easy to manipulate strings into tabular form:"
     ]
    },
    {
     "cell_type": "code",
     "collapsed": false,
     "input": [
      "t = Table(TableHeaderRow('Keystroke', 'Command'))\n",
      "\n",
      "# This string was obtained by copying the output of Ctrl-m h\n",
      "data = '''Shif\u00adt-E\u00adnter:\trun cell\n",
      "Ctrl\u00ad-En\u00adter:\trun cell in-place\n",
      "Ctrl-m x:\tcut cell\n",
      "Ctrl-m c:\tcopy cell\n",
      "Ctrl-m v:\tpaste cell\n",
      "Ctrl-m d:\tdelete cell\n",
      "Ctrl-m a:\tinsert cell above\n",
      "Ctrl-m b:\tinsert cell below\n",
      "Ctrl-m o:\ttoggle output\n",
      "Ctrl-m 0:\ttoggle output scroll\n",
      "Ctrl-m l:\ttoggle line numbers\n",
      "Ctrl-m s:\tsave notebook\n",
      "Ctrl-m j:\tmove cell down\n",
      "Ctrl-m k:\tmove cell up\n",
      "Ctrl-m y:\tcode cell\n",
      "Ctrl-m m:\tmarkdown cell\n",
      "Ctrl-m t:\traw cell\n",
      "Ctrl-m 1-6:\theading 1-6 cell\n",
      "Ctrl-m p:\tselect previous\n",
      "Ctrl-m n:\tselect next\n",
      "Ctrl-m i:\tinterrupt kernel\n",
      "Ctrl-m .:\trestart kernel\n",
      "Ctrl-m h:\tshow keyboard shortcuts'''\n",
      "\n",
      "for line in data.split('\\n'):\n",
      "    row = line.split(':')\n",
      "    t.append_row(row)\n",
      "t"
     ],
     "language": "python",
     "metadata": {},
     "outputs": [
      {
       "html": [
        "<table>\n",
        "<tr><th >Keystroke</th><th >Command</th></tr>\n",
        "<tr><td >Shif\u00adt-E\u00adnter</td><td >\trun cell</td></tr>\n",
        "<tr><td >Ctrl\u00ad-En\u00adter</td><td >\trun cell in-place</td></tr>\n",
        "<tr><td >Ctrl-m x</td><td >\tcut cell</td></tr>\n",
        "<tr><td >Ctrl-m c</td><td >\tcopy cell</td></tr>\n",
        "<tr><td >Ctrl-m v</td><td >\tpaste cell</td></tr>\n",
        "<tr><td >Ctrl-m d</td><td >\tdelete cell</td></tr>\n",
        "<tr><td >Ctrl-m a</td><td >\tinsert cell above</td></tr>\n",
        "<tr><td >Ctrl-m b</td><td >\tinsert cell below</td></tr>\n",
        "<tr><td >Ctrl-m o</td><td >\ttoggle output</td></tr>\n",
        "<tr><td >Ctrl-m 0</td><td >\ttoggle output scroll</td></tr>\n",
        "<tr><td >Ctrl-m l</td><td >\ttoggle line numbers</td></tr>\n",
        "<tr><td >Ctrl-m s</td><td >\tsave notebook</td></tr>\n",
        "<tr><td >Ctrl-m j</td><td >\tmove cell down</td></tr>\n",
        "<tr><td >Ctrl-m k</td><td >\tmove cell up</td></tr>\n",
        "<tr><td >Ctrl-m y</td><td >\tcode cell</td></tr>\n",
        "<tr><td >Ctrl-m m</td><td >\tmarkdown cell</td></tr>\n",
        "<tr><td >Ctrl-m t</td><td >\traw cell</td></tr>\n",
        "<tr><td >Ctrl-m 1-6</td><td >\theading 1-6 cell</td></tr>\n",
        "<tr><td >Ctrl-m p</td><td >\tselect previous</td></tr>\n",
        "<tr><td >Ctrl-m n</td><td >\tselect next</td></tr>\n",
        "<tr><td >Ctrl-m i</td><td >\tinterrupt kernel</td></tr>\n",
        "<tr><td >Ctrl-m .</td><td >\trestart kernel</td></tr>\n",
        "<tr><td >Ctrl-m h</td><td >\tshow keyboard shortcuts</td></tr>\n",
        "</table>"
       ],
       "output_type": "pyout",
       "prompt_number": 4,
       "text": [
        "<ipytables.Table at 0x2e82290>"
       ]
      }
     ],
     "prompt_number": 4
    },
    {
     "cell_type": "markdown",
     "metadata": {},
     "source": [
      "### Example of cell styling:"
     ]
    },
    {
     "cell_type": "code",
     "collapsed": false,
     "input": [
      "div = 3.2\n",
      "num = 205\n",
      "bgc = 'DarkGrey'\n",
      "hprops = dict(bg_colour=bgc, text_colour='Yellow')\n",
      "head = (TableCell('N divisions of {0} by {1}'.format(num, div), **hprops), \n",
      "        TableCell('result', **hprops))\n",
      "t = Table(head)\n",
      "\n",
      "for x in range(7):\n",
      "    num_str = '{0:10.2f}'.format(num)\n",
      "           \n",
      "    if x%2:\n",
      "        bgc = 'LightGrey'\n",
      "    else:\n",
      "        bgc = 'LightYellow'\n",
      "   \n",
      "    if num < 1:\n",
      "        tc = 'red'\n",
      "    else:\n",
      "        tc = 'black'\n",
      "        \n",
      "    t.append_row((TableCell(x, bg_colour=bgc), TableCell(num_str, bg_colour=bgc, text_colour=tc)))\n",
      "    num /= div\n",
      "t"
     ],
     "language": "python",
     "metadata": {},
     "outputs": [
      {
       "html": [
        "<table>\n",
        "<tr><td style=\"background-color:DarkGrey; color:Yellow\">N divisions of 205 by 3.2</td><td style=\"background-color:DarkGrey; color:Yellow\">result</td></tr>\n",
        "<tr><td style=\"background-color:LightYellow\">0</td><td style=\"background-color:LightYellow; color:black\">    205.00</td></tr>\n",
        "<tr><td style=\"background-color:LightGrey\">1</td><td style=\"background-color:LightGrey; color:black\">     64.06</td></tr>\n",
        "<tr><td style=\"background-color:LightYellow\">2</td><td style=\"background-color:LightYellow; color:black\">     20.02</td></tr>\n",
        "<tr><td style=\"background-color:LightGrey\">3</td><td style=\"background-color:LightGrey; color:black\">      6.26</td></tr>\n",
        "<tr><td style=\"background-color:LightYellow\">4</td><td style=\"background-color:LightYellow; color:black\">      1.96</td></tr>\n",
        "<tr><td style=\"background-color:LightGrey\">5</td><td style=\"background-color:LightGrey; color:red\">      0.61</td></tr>\n",
        "<tr><td style=\"background-color:LightYellow\">6</td><td style=\"background-color:LightYellow; color:red\">      0.19</td></tr>\n",
        "</table>"
       ],
       "output_type": "pyout",
       "prompt_number": 5,
       "text": [
        "<ipytables.Table at 0x2e93510>"
       ]
      }
     ],
     "prompt_number": 5
    }
   ],
   "metadata": {}
  }
 ]
}