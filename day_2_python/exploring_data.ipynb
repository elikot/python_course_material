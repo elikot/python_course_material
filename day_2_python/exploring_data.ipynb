{
 "metadata": {
  "name": "exploring_data"
 },
 "nbformat": 3,
 "nbformat_minor": 0,
 "worksheets": [
  {
   "cells": [
    {
     "cell_type": "markdown",
     "metadata": {},
     "source": [
      "Let's import some protein abundance data from a tab separated file."
     ]
    },
    {
     "cell_type": "code",
     "collapsed": false,
     "input": [
      "import os\n",
      "import csv\n",
      "\n",
      "data_dir = 'data'\n",
      "data_file = 'de_Godoy_Nature_2008.txt'\n",
      "data_file = 'integrated_dataset.txt'\n",
      "\n",
      "all_data = []\n",
      "with open(os.path.join(data_dir, data_file), 'r') as f:\n",
      "    r = csv.reader(f, delimiter=\"\\t\")\n",
      "    for id_number, yeast_code, ppm_value in r:\n",
      "        all_data.append(float(ppm_value))"
     ],
     "language": "python",
     "metadata": {},
     "outputs": [],
     "prompt_number": 1
    },
    {
     "cell_type": "markdown",
     "metadata": {},
     "source": [
      "The first step in data exploration is often a quick \n",
      "statistical description.  The `pandas` library is useful for this."
     ]
    },
    {
     "cell_type": "code",
     "collapsed": false,
     "input": [
      "import pandas\n",
      "df = pandas.DataFrame(all_data)\n",
      "df.describe()"
     ],
     "language": "python",
     "metadata": {},
     "outputs": []
    },
    {
     "cell_type": "markdown",
     "metadata": {},
     "source": [
      "We can see from the `pandas.DataFrame.describe` method that this data has a very wide range of abundance values.  A common method to view this data together is to transform it with a logarithmic function."
     ]
    },
    {
     "cell_type": "code",
     "collapsed": false,
     "input": [
      "import math \n",
      "\n",
      "#log_data = []\n",
      "#for value in all_data:\n",
      "#    log_data.append(math.log(value))\n",
      "\n",
      "# We can replace the above code with a list comprehension\n",
      "log_data = [math.log(v) for v in all_data]"
     ],
     "language": "python",
     "metadata": {},
     "outputs": []
    },
    {
     "cell_type": "markdown",
     "metadata": {},
     "source": [
      "Instead of using --pylab inline to plot (which produces raster graphics), \n",
      "I prefer to make svg versions and show these.  \n",
      "\n",
      "The magic here is using BytesIO which replaces the need to actually write \n",
      "the svg figure to a file.\n",
      "\n",
      "It is easy to add a save option to write to disk."
     ]
    },
    {
     "cell_type": "code",
     "collapsed": false,
     "input": [
      "import matplotlib.pyplot as plt\n",
      "from io import BytesIO\n",
      "\n",
      "def fig_to_svg(fig):\n",
      "    \"\"\"\n",
      "    return the SVG of a matplotlib figure\n",
      "    \"\"\"\n",
      "    output = BytesIO()\n",
      "    fig.savefig(output, format='svg')\n",
      "    plt.close(fig)\n",
      "    return output.getvalue()"
     ],
     "language": "python",
     "metadata": {},
     "outputs": []
    },
    {
     "cell_type": "markdown",
     "metadata": {},
     "source": [
      "To display the output of `fig_to_svg` in IPython notebook, we can use \n",
      "the following helper function."
     ]
    },
    {
     "cell_type": "code",
     "collapsed": false,
     "input": [
      "from IPython.display import display, SVG\n",
      "\n",
      "def show(fig):\n",
      "    display(SVG(plot_to_svg(fig)))"
     ],
     "language": "python",
     "metadata": {},
     "outputs": []
    },
    {
     "cell_type": "markdown",
     "metadata": {},
     "source": [
      "Now we can plot the data in a histogram."
     ]
    },
    {
     "cell_type": "code",
     "collapsed": false,
     "input": [
      "fig = plt.figure(figsize=(6,4))\n",
      "\n",
      "n, bins, patches = plt.hist(log_data, 200, normed=0, histtype='bar')\n",
      "\n",
      "# Removes black lines from rectangles\n",
      "# and sets every second one to be red. \n",
      "# Adds an alpha value to each rectangle.\n",
      "for index, p in enumerate(patches):\n",
      "    p.set_linewidth(0)\n",
      "    if index%2:\n",
      "        p.set_color('red')\n",
      "    p.set_alpha(0.5)\n",
      "        \n",
      "plt.title('Histogram of log(protein abundance in ppm)')\n",
      "plt.xlabel('log(protein abundance in ppm)')\n",
      "plt.ylabel('Number of proteins in bin')\n",
      "show(fig)"
     ],
     "language": "python",
     "metadata": {},
     "outputs": []
    }
   ],
   "metadata": {}
  }
 ]
}