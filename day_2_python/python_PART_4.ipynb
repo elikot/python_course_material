{
 "metadata": {
  "name": "introduction_to_python_PART_4"
 },
 "nbformat": 3,
 "nbformat_minor": 0,
 "worksheets": [
  {
   "cells": [
    {
     "cell_type": "markdown",
     "metadata": {},
     "source": [
      "Introduction to scientific computing with Python\n",
      "------------------------------------------------\n",
      "------------------------------------------------\n",
      "\n",
      "David Schryer (schryer@ut.ee)\n",
      "\n",
      "* https://github.com/schryer    \n",
      "* https://bitbucket.org/schryer\n",
      "\n",
      "All notebooks in this lecture series are available at\n",
      "\n",
      "* https://github.com/schryer/python_course_material"
     ]
    },
    {
     "cell_type": "markdown",
     "metadata": {},
     "source": [
      "## Control of program flow"
     ]
    },
    {
     "cell_type": "markdown",
     "metadata": {},
     "source": [
      "### Conditional statements: if, elif, else\n",
      "\n",
      "The Python syntax for conditional execution of code use the keywords `if`, `elif` (else if), `else`:"
     ]
    },
    {
     "cell_type": "code",
     "collapsed": false,
     "input": [
      "statement1 = False\n",
      "statement2 = False\n",
      "\n",
      "if statement1:\n",
      "    print(\"statement1 is True\")\n",
      "    \n",
      "elif statement2:\n",
      "    print(\"statement2 is True\")\n",
      "    \n",
      "else:\n",
      "    print(\"statement1 and statement2 are False\")"
     ],
     "language": "python",
     "metadata": {},
     "outputs": []
    },
    {
     "cell_type": "markdown",
     "metadata": {},
     "source": [
      "For the first time, here we encounted a peculiar and unusual aspect of the Python programming language: Program blocks are defined by their indentation level. \n",
      "\n",
      "Compare to the equivalent C code:\n",
      "\n",
      "    if (statement1)\n",
      "    {\n",
      "        printf(\"statement1 is True\\n\");\n",
      "    }\n",
      "    else if (statement2)\n",
      "    {\n",
      "        printf(\"statement2 is True\\n\");\n",
      "    }\n",
      "    else\n",
      "    {\n",
      "        printf(\"statement1 and statement2 are False\\n\");\n",
      "    }\n",
      "\n",
      "In C blocks are defined by the enclosing curly brakets `{` and `}`. And the level of indentation (white space before the code statements) does not matter (completely optional). \n",
      "\n",
      "But in Python, the extent of a code block is defined by the indentation level (usually a tab or say four white spaces). This means that we often must be careful to indent our code correctly, or else we will get syntax errors. \n",
      "\n",
      "**Examples:**\n",
      "\n",
      "First, a few tricks:\n",
      "\n",
      "- `eval` can be used to evaluate expressions (or any Python code (so be careful)):"
     ]
    },
    {
     "cell_type": "code",
     "collapsed": false,
     "input": [
      "x = 0.1\n",
      "y = 0.1\n",
      "\n",
      "E1 = 'x**2 < y'\n",
      "e1 = eval(E1)\n",
      "\n",
      "E2 = 'x >= (y**2 / 2.0)'\n",
      "e2 = eval(E2)\n",
      "\n",
      "(E1, e1), (E2, e2)"
     ],
     "language": "python",
     "metadata": {},
     "outputs": []
    },
    {
     "cell_type": "markdown",
     "metadata": {},
     "source": [
      "- strings can be formatted using the format method:"
     ]
    },
    {
     "cell_type": "code",
     "collapsed": false,
     "input": [
      "print(\"Evaluating E1 ({0}) and E2 ({1}) when x is {2} and y is {3}:\".format(E1, E2, x, y))"
     ],
     "language": "python",
     "metadata": {},
     "outputs": []
    },
    {
     "cell_type": "code",
     "collapsed": false,
     "input": [
      "if e1:\n",
      "    if e2:\n",
      "        print(\"  Both E1 and E2 are True.\")\n",
      "    else:\n",
      "        print(\"  Only E1 is True.\")\n",
      "elif e2:\n",
      "    print(\"  Only E2 is True.\")\n",
      "else:\n",
      "    print(\"  Neither E1 nor E2 are True.\")"
     ],
     "language": "python",
     "metadata": {},
     "outputs": []
    },
    {
     "cell_type": "markdown",
     "metadata": {},
     "source": [
      "## Loops\n",
      "\n",
      "In Python, loops can be programmed in a number of different ways. The most common is the `for` loop, which is used together with iterable objects, such as lists. The basic syntax is:\n",
      "\n",
      "\n",
      "**`for` loops**:"
     ]
    },
    {
     "cell_type": "code",
     "collapsed": false,
     "input": [
      "for x in [1,2,3]:\n",
      "    print(x)"
     ],
     "language": "python",
     "metadata": {},
     "outputs": []
    },
    {
     "cell_type": "markdown",
     "metadata": {},
     "source": [
      "Loops can contain loops:"
     ]
    },
    {
     "cell_type": "code",
     "collapsed": false,
     "input": [
      "X = [0, 0, -1, 0.1]\n",
      "Y = [0, 1, 0, 0.1]\n",
      "\n",
      "for x in X:\n",
      "    for y in Y:\n",
      "        print(x, y)"
     ],
     "language": "python",
     "metadata": {},
     "outputs": []
    },
    {
     "cell_type": "markdown",
     "metadata": {},
     "source": [
      "We can *unpack* nested lists (or tuples) within a loop:"
     ]
    },
    {
     "cell_type": "code",
     "collapsed": false,
     "input": [
      "XY = [(0,0), (0, 1), (-1, 0), (0.1, 0.1)]\n",
      "for x, y in XY:\n",
      "    print(x, y)"
     ],
     "language": "python",
     "metadata": {},
     "outputs": []
    },
    {
     "cell_type": "markdown",
     "metadata": {},
     "source": [
      "Now we can evalute many expressions in a loop:"
     ]
    },
    {
     "cell_type": "code",
     "collapsed": false,
     "input": [
      "XY = [(1,1), (0, 1), (-1, 0), (0.999999999999999, 0.999999999999999)]\n",
      "E1 = 'x**2 < y'\n",
      "E2 = 'x >= (y**2 / 2.0)'\n",
      "\n",
      "out = \"Evaluating E1 ({0}) and E2 ({1}): \\n\".format(E1, E2)\n",
      "\n",
      "for x, y in XY:\n",
      "    e1 = eval(E1)\n",
      "    e2 = eval(E2)\n",
      "    \n",
      "    out += \"\\nif x is {0} and y is {1}:\".format(x, y)\n",
      "    if e1:\n",
      "        if e2:\n",
      "            out += \"  Both E1 and E2 are True.\"\n",
      "        else:\n",
      "            out += \"  Only E1 is True.\"\n",
      "    elif e2:\n",
      "        out += \"  Only E2 is True.\"\n",
      "    else:\n",
      "        out += \"  Neither E1 nor E2 are True.\"\n",
      "print(out)"
     ],
     "language": "python",
     "metadata": {},
     "outputs": []
    },
    {
     "cell_type": "markdown",
     "metadata": {},
     "source": [
      "You can initiate a loop using the `range` function:  \n",
      "\n",
      "**Note:** When range reaches the last value (3) it *immediatly* executes the next statement after the `for` loop (the first line that has the same indentation level as `for`.  This means that `x` never takes on the value of 3."
     ]
    },
    {
     "cell_type": "code",
     "collapsed": false,
     "input": [
      "for x in range(-3,3):\n",
      "    print(x)\n",
      "print('x leaves the loop as: {0}'.format(x))"
     ],
     "language": "python",
     "metadata": {},
     "outputs": []
    },
    {
     "cell_type": "markdown",
     "metadata": {},
     "source": [
      "Sometimes it is useful to have access to the indices of the values when iterating over a list. \n",
      "\n",
      "We can use the `enumerate` function for this:"
     ]
    },
    {
     "cell_type": "code",
     "collapsed": false,
     "input": [
      "for index, x in enumerate(range(-3,3)):\n",
      "    print(index, x)"
     ],
     "language": "python",
     "metadata": {},
     "outputs": []
    },
    {
     "cell_type": "code",
     "collapsed": false,
     "input": [
      "words = [\"scientific\", \"computing\", \"with\", \"python\"]\n",
      "for index, word in enumerate(words):\n",
      "    print(index, word)"
     ],
     "language": "python",
     "metadata": {},
     "outputs": []
    },
    {
     "cell_type": "markdown",
     "metadata": {},
     "source": [
      "As a side note:\n",
      "\n",
      "strings also have a handy `join` method.  In this case they are joined by spaces and underscore characters."
     ]
    },
    {
     "cell_type": "code",
     "collapsed": false,
     "input": [
      "' '.join(words), '_'.join(words)"
     ],
     "language": "python",
     "metadata": {},
     "outputs": []
    },
    {
     "cell_type": "markdown",
     "metadata": {},
     "source": [
      "To iterate over keys in a dictionary:"
     ]
    },
    {
     "cell_type": "code",
     "collapsed": false,
     "input": [
      "time_parameters = dict(seconds=60, \n",
      "                       minutes=60, \n",
      "                       hours=24, \n",
      "                       days=7, \n",
      "                       weeks=52,\n",
      "                    )\n",
      "print('Keys:\\n-----')\n",
      "for key in time_parameters.keys():\n",
      "    print(key)\n",
      "    \n",
      "print('\\nValues:\\n-------')\n",
      "for value in time_parameters.values():\n",
      "    print(value)"
     ],
     "language": "python",
     "metadata": {},
     "outputs": []
    },
    {
     "cell_type": "markdown",
     "metadata": {},
     "source": [
      "To iterate over key-value pairs of a dictionary:"
     ]
    },
    {
     "cell_type": "code",
     "collapsed": false,
     "input": [
      "for key, value in time_parameters.items():\n",
      "    print(\"time_parameters[{0}] = {1}\".format(key, value))"
     ],
     "language": "python",
     "metadata": {},
     "outputs": []
    },
    {
     "cell_type": "markdown",
     "metadata": {},
     "source": [
      "Perhaps we only want to print out the parameters with values larger than 50:"
     ]
    },
    {
     "cell_type": "code",
     "collapsed": false,
     "input": [
      "for key, value in time_parameters.items():\n",
      "    if value > 50:\n",
      "        print(\"time_parameters[{0}] = {1}\".format(key, value))"
     ],
     "language": "python",
     "metadata": {},
     "outputs": []
    },
    {
     "cell_type": "markdown",
     "metadata": {},
     "source": [
      "This same operation can be performed using the `continue` statement which means start the next iteration of the loop without performing any additional statements.  Note that `continue` can be used to avoid excessive indentation levels. \n",
      "\n",
      "If you need to stop the loop, use the `break` statement."
     ]
    },
    {
     "cell_type": "code",
     "collapsed": false,
     "input": [
      "for key, value in time_parameters.items():\n",
      "    if value <= 50:\n",
      "        continue\n",
      "    if value < 0:\n",
      "        print('Negative time found!')\n",
      "        break\n",
      "        \n",
      "    print(\"time_parameters[{0}] = {1}\".format(key, value))"
     ],
     "language": "python",
     "metadata": {},
     "outputs": []
    },
    {
     "cell_type": "markdown",
     "metadata": {},
     "source": [
      "***List comprehensions***: Creating lists using `for` loops:\n",
      "\n",
      "A convenient and compact way to initialize lists:"
     ]
    },
    {
     "cell_type": "code",
     "collapsed": false,
     "input": [
      "squares = [x**2 for x in range(0,18)]\n",
      "\n",
      "print(squares)"
     ],
     "language": "python",
     "metadata": {},
     "outputs": []
    },
    {
     "cell_type": "markdown",
     "metadata": {},
     "source": [
      "Examine this code:  (Take your time)"
     ]
    },
    {
     "cell_type": "code",
     "collapsed": false,
     "input": [
      "import random\n",
      "\n",
      "random_numbers = [random.normalvariate(1, 0.1) for i in range(400)]\n",
      "\n",
      "total = 0\n",
      "count = 0\n",
      "print('Processing {0} random numbers:'.format(len(random_numbers)))\n",
      "\n",
      "for index, x in enumerate(random_numbers): \n",
      "    if x > 1.26:\n",
      "        print('  Skipping large x : {0}  index : {1}'.format(x, index))\n",
      "        continue\n",
      "    total += x\n",
      "    count += 1\n",
      "    \n",
      "if count < len(random_numbers):\n",
      "    print('We processed {0} random numbers.'.format(count))\n",
      "    \n",
      "print('Their average value is : {0}'.format(total / float(count)))"
     ],
     "language": "python",
     "metadata": {},
     "outputs": []
    },
    {
     "cell_type": "markdown",
     "metadata": {},
     "source": [
      "Try to extend the above code to calculate the average value of the numbers that were skipped."
     ]
    },
    {
     "cell_type": "markdown",
     "metadata": {},
     "source": [
      "**`while` loops**:"
     ]
    },
    {
     "cell_type": "code",
     "collapsed": false,
     "input": [
      "i = 0\n",
      "\n",
      "while i < 5:\n",
      "    print(i)\n",
      "    \n",
      "    #i = i + 1  The next line means the same thing.\n",
      "    i += 1\n",
      "    \n",
      "print(\"done\")"
     ],
     "language": "python",
     "metadata": {},
     "outputs": []
    },
    {
     "cell_type": "markdown",
     "metadata": {},
     "source": [
      "Note that the `print(\"done\")` statement is not part of the `while` loop body because of the difference in indentation."
     ]
    },
    {
     "cell_type": "markdown",
     "metadata": {},
     "source": [
      "This accomplishes the same thing:\n",
      "\n",
      "**Note:**  You can use multiple `break` statements to stop the loop under different conditions "
     ]
    },
    {
     "cell_type": "code",
     "collapsed": false,
     "input": [
      "i = 0\n",
      "while True:\n",
      "    print(i)\n",
      "    \n",
      "    if i >= 4:\n",
      "        break\n",
      "    i += 1\n",
      "print(\"done\")"
     ],
     "language": "python",
     "metadata": {},
     "outputs": []
    },
    {
     "cell_type": "code",
     "collapsed": false,
     "input": [
      "import sys\n",
      "import IPython"
     ],
     "language": "python",
     "metadata": {},
     "outputs": []
    },
    {
     "cell_type": "code",
     "collapsed": false,
     "input": [
      "print(\"This notebook was evaluated with: Python %s and IPython %s.\" % (sys.version, IPython.__version__))"
     ],
     "language": "python",
     "metadata": {},
     "outputs": []
    }
   ],
   "metadata": {}
  }
 ]
}