{
 "metadata": {
  "name": "HW1"
 },
 "nbformat": 3,
 "nbformat_minor": 0,
 "worksheets": [
  {
   "cells": [
    {
     "cell_type": "code",
     "collapsed": false,
     "input": [
      "ls"
     ],
     "language": "python",
     "metadata": {},
     "outputs": [
      {
       "output_type": "stream",
       "stream": "stdout",
       "text": [
        "\u001b[0m\u001b[01;34mpython_course_material\u001b[0m/"
       ]
      },
      {
       "output_type": "stream",
       "stream": "stdout",
       "text": [
        "\r\n"
       ]
      }
     ],
     "prompt_number": 10
    },
    {
     "cell_type": "code",
     "collapsed": false,
     "input": [
      "cd python_course_material"
     ],
     "language": "python",
     "metadata": {},
     "outputs": [
      {
       "output_type": "stream",
       "stream": "stdout",
       "text": [
        "/home/swc/hg/python_course_material\n"
       ]
      }
     ],
     "prompt_number": 11
    },
    {
     "cell_type": "code",
     "collapsed": false,
     "input": [
      "ls\n"
     ],
     "language": "python",
     "metadata": {},
     "outputs": [
      {
       "output_type": "stream",
       "stream": "stdout",
       "text": [
        "\u001b[0m\u001b[01;34mcode\u001b[0m/          \u001b[01;34mextra_topics\u001b[0m/                       README.rst"
       ]
      },
      {
       "output_type": "stream",
       "stream": "stdout",
       "text": [
        "\r\n",
        "\u001b[01;34mday_1_python\u001b[0m/  \u001b[01;34mimages\u001b[0m/                             \u001b[01;34msetup\u001b[0m/\r\n",
        "\u001b[01;34mday_1_shell\u001b[0m/   introducing_IPython_notebook.ipynb  Untitled0.ipynb\r\n",
        "\u001b[01;34mday_2_python\u001b[0m/  introduction_to_course.ipynb        Untitled1.ipynb\r\n",
        "\u001b[01;34mdoc\u001b[0m/           main.py\r\n"
       ]
      }
     ],
     "prompt_number": 12
    },
    {
     "cell_type": "code",
     "collapsed": false,
     "input": [
      "cd extra_topics"
     ],
     "language": "python",
     "metadata": {},
     "outputs": [
      {
       "output_type": "stream",
       "stream": "stdout",
       "text": [
        "/home/swc/hg/python_course_material/extra_topics\n"
       ]
      }
     ],
     "prompt_number": 13
    },
    {
     "cell_type": "code",
     "collapsed": false,
     "input": [
      "ls"
     ],
     "language": "python",
     "metadata": {},
     "outputs": [
      {
       "output_type": "stream",
       "stream": "stdout",
       "text": [
        "biopython.ipynb                   kinetics.ipynb         sympy.ipynb\r\n",
        "\u001b[0m\u001b[01;34mdata\u001b[0m/                             proteomics_data.ipynb  tables.ipynb\r\n",
        "exploring_data.ipynb              README.md\r\n",
        "fitting_a_function_to_data.ipynb  sets.ipynb\r\n"
       ]
      }
     ],
     "prompt_number": 14
    },
    {
     "cell_type": "code",
     "collapsed": false,
     "input": [
      "ls"
     ],
     "language": "python",
     "metadata": {},
     "outputs": [
      {
       "output_type": "stream",
       "stream": "stdout",
       "text": [
        "biopython.ipynb                   kinetics.ipynb         sympy.ipynb\r\n",
        "\u001b[0m\u001b[01;34mdata\u001b[0m/                             proteomics_data.ipynb  tables.ipynb\r\n",
        "exploring_data.ipynb              README.md\r\n",
        "fitting_a_function_to_data.ipynb  sets.ipynb\r\n"
       ]
      }
     ],
     "prompt_number": 15
    },
    {
     "cell_type": "code",
     "collapsed": false,
     "input": [
      "\n"
     ],
     "language": "python",
     "metadata": {},
     "outputs": [
      {
       "output_type": "stream",
       "stream": "stdout",
       "text": [
        "/home/swc/hg/python_course_material/extra_topics\n"
       ]
      }
     ],
     "prompt_number": 84
    },
    {
     "cell_type": "code",
     "collapsed": false,
     "input": [
      "with open(\"data/proteomics_data.csv\",'r') as f:\n",
      "    lines=f.readlines()\n",
      "    #print lines\n",
      "    my_data={}\n",
      "    heading= lines.pop(0)\n",
      "    heading=heading.split(',')\n",
      "   \n",
      "    key=[]\n",
      "    for i in range(len(heading)):\n",
      "        if i>0:\n",
      "            key.append(float(heading[i]))\n",
      "        else:\n",
      "            key.append(heading[i])\n",
      "    for num in range(len(key)):\n",
      "        my_data[key[num]]=[]\n",
      "            \n",
      "    for el in (lines):\n",
      "        line=el.split(',')\n",
      "        #print line[1]\n",
      "        #print len(line)\n",
      "        #print len(lines)\n",
      "        for num in range(len(key)):\n",
      "            #print num\n",
      "            for l in range(len(line)):\n",
      "               if num==l:\n",
      "                    if num==0:\n",
      "                        my_data[key[num]].append(line[l])\n",
      "                    else:\n",
      "                        my_data[key[num]].append(float(line[l]))\n",
      "                    \n",
      "                 \n",
      "                    \n",
      "    print my_data"
     ],
     "language": "python",
     "metadata": {},
     "outputs": [
      {
       "output_type": "stream",
       "stream": "stdout",
       "text": [
        "{40.0: [0.0, 2.49, -0.3, -0.99, 1.16, 1.46, 0.0, -0.26, 0.0, -2.07, -0.14, 0.15, 0.0, 0.2, 0.0, -0.71, 1.98, 2.49], 10.0: [2.06, 1.8, -0.64, -0.52, 1.35, 1.12, 0.93, -0.85, 1.82, -0.27, -0.22, -2.01, -0.41, -0.38, 0.75, 0.13, 1.18, 1.8], 50.0: [-0.03, 2.69, -1.16, -1.97, 0.51, -0.01, -0.4, -1.89, -1.16, 0.0, 0.32, -0.97, -1.41, -1.56, 1.4, -1.54, 1.53, 2.69], 20.0: [1.2, 3.57, -0.71, -1.34, 2.2, 0.0, -0.93, 0.0, -0.21, -0.65, 0.0, -0.63, 0.95, -0.26, 1.03, -0.49, 0.94, 3.57], 'Uniprot': ['P14060', 'P26439', 'P29372', 'Q96J02', 'P52209', 'P80370', 'P05112', 'Q9BQI3', 'O43318', 'O95257', 'Q7L7X3', 'P22694', 'Q13105', 'Q15329', 'P23771', 'Q92985', 'Q15788', 'Q15413'], 30.0: [1.61, 2.04, -0.21, -0.15, 1.47, 0.56, -3.28, -2.07, -0.53, 0.82, -0.36, 0.65, -1.49, -0.27, 0.44, 0.36, 1.27, 2.04]}\n"
       ]
      }
     ],
     "prompt_number": 91
    },
    {
     "cell_type": "code",
     "collapsed": false,
     "input": [],
     "language": "python",
     "metadata": {},
     "outputs": [],
     "prompt_number": 19
    },
    {
     "cell_type": "code",
     "collapsed": false,
     "input": [
      "for index,el in enumerate(lines):\n",
      "        line=el.split(',')\n",
      "        for i in range(len(line)):\n",
      "            if index==0:\n",
      "                        if i>0:\n",
      "                            key=float(line[i])\n",
      "                        else:\n",
      "                            key=line[i]\n",
      "                        my_data[key]=[]\n",
      "        \n",
      "            if i>0 & line[i].pop(0)==key:\n",
      "                my_data[key]=line[i]"
     ],
     "language": "python",
     "metadata": {},
     "outputs": []
    }
   ],
   "metadata": {}
  }
 ]
}