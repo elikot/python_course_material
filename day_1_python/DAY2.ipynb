{
 "metadata": {
  "name": "DAY2"
 },
 "nbformat": 3,
 "nbformat_minor": 0,
 "worksheets": [
  {
   "cells": [
    {
     "cell_type": "code",
     "collapsed": false,
     "input": [
      "ls"
     ],
     "language": "python",
     "metadata": {},
     "outputs": [
      {
       "output_type": "stream",
       "stream": "stdout",
       "text": [
        "pointmodule.py       python_PART_2.ipynb  python_PART_5.ipynb\r\n",
        "pointmodule.pyc      python_PART_3.ipynb  python_PART_6.ipynb\r\n",
        "python_PART_1.ipynb  python_PART_4.ipynb  Untitled0.ipynb\r\n"
       ]
      }
     ],
     "prompt_number": 1
    },
    {
     "cell_type": "code",
     "collapsed": false,
     "input": [
      "cd ..\n"
     ],
     "language": "python",
     "metadata": {},
     "outputs": [
      {
       "output_type": "stream",
       "stream": "stdout",
       "text": [
        "/home/swc/hg/python_course_material"
       ]
      },
      {
       "output_type": "stream",
       "stream": "stdout",
       "text": [
        "\n"
       ]
      }
     ],
     "prompt_number": 2
    },
    {
     "cell_type": "code",
     "collapsed": false,
     "input": [
      "ls"
     ],
     "language": "python",
     "metadata": {},
     "outputs": [
      {
       "output_type": "stream",
       "stream": "stdout",
       "text": [
        "\u001b[0m\u001b[01;34mcode\u001b[0m/          \u001b[01;34mday_2_shell\u001b[0m/  introducing_IPython_notebook.ipynb  \u001b[01;34msetup\u001b[0m/\r\n",
        "\u001b[01;34mday_1_python\u001b[0m/  \u001b[01;34mdoc\u001b[0m/          introduction_to_course.ipynb\r\n",
        "\u001b[01;34mday_2_python\u001b[0m/  \u001b[01;34mimages\u001b[0m/       README.rst\r\n"
       ]
      }
     ],
     "prompt_number": 3
    },
    {
     "cell_type": "code",
     "collapsed": false,
     "input": [
      "cd day_2_python"
     ],
     "language": "python",
     "metadata": {},
     "outputs": [
      {
       "output_type": "stream",
       "stream": "stdout",
       "text": [
        "/home/swc/hg/python_course_material/day_2_python"
       ]
      },
      {
       "output_type": "stream",
       "stream": "stdout",
       "text": [
        "\n"
       ]
      }
     ],
     "prompt_number": 4
    },
    {
     "cell_type": "code",
     "collapsed": false,
     "input": [
      "ls\n"
     ],
     "language": "python",
     "metadata": {},
     "outputs": [
      {
       "output_type": "stream",
       "stream": "stdout",
       "text": [
        "\u001b[0m\u001b[01;34mdata\u001b[0m/  exploring_data.ipynb  proteomics_data.ipynb  sets.ipynb  sympy.ipynb\r\n"
       ]
      }
     ],
     "prompt_number": 5
    },
    {
     "cell_type": "code",
     "collapsed": false,
     "input": [
      "ls data"
     ],
     "language": "python",
     "metadata": {},
     "outputs": [
      {
       "output_type": "stream",
       "stream": "stdout",
       "text": [
        "de_Godoy_Nature_2008.txt  integrated_dataset.txt  proteomics_data.csv\r\n"
       ]
      }
     ],
     "prompt_number": 6
    },
    {
     "cell_type": "code",
     "collapsed": false,
     "input": [
      "pwd"
     ],
     "language": "python",
     "metadata": {},
     "outputs": [
      {
       "output_type": "pyout",
       "prompt_number": 7,
       "text": [
        "u'/home/swc/hg/python_course_material/day_2_python'"
       ]
      }
     ],
     "prompt_number": 7
    },
    {
     "cell_type": "code",
     "collapsed": false,
     "input": [
      "print my_data"
     ],
     "language": "python",
     "metadata": {},
     "outputs": [
      {
       "output_type": "stream",
       "stream": "stdout",
       "text": [
        "{'10': [2.06, 1.8, -0.64, -0.52, 1.35, 1.12, 0.93, -0.85, 1.82, -0.27, -0.22, -2.01, -0.41, -0.38, 0.75, 0.13, 1.18, 1.8], '20': [1.2, 3.57, -0.71, -1.34, 2.2, 0.0, -0.93, 0.0, -0.21, -0.65, 0.0, -0.63, 0.95, -0.26, 1.03, -0.49, 0.94, 3.57], '30': [1.61, 2.04, -0.21, -0.15, 1.47, 0.56, -3.28, -2.07, -0.53, 0.82, -0.36, 0.65, -1.49, -0.27, 0.44, 0.36, 1.27, 2.04], '50': [-0.03, 2.69, -1.16, -1.97, 0.51, -0.01, -0.4, -1.89, -1.16, 0.0, 0.32, -0.97, -1.41, -1.56, 1.4, -1.54, 1.53, 2.69], '40': [0.0, 2.49, -0.3, -0.99, 1.16, 1.46, 0.0, -0.26, 0.0, -2.07, -0.14, 0.15, 0.0, 0.2, 0.0, -0.71, 1.98, 2.49], 'Uniprot': ['P14060', 'P26439', 'P29372', 'Q96J02', 'P52209', 'P80370', 'P05112', 'Q9BQI3', 'O43318', 'O95257', 'Q7L7X3', 'P22694', 'Q13105', 'Q15329', 'P23771', 'Q92985', 'Q15788', 'Q15413']}\n"
       ]
      }
     ],
     "prompt_number": 29
    },
    {
     "cell_type": "code",
     "collapsed": false,
     "input": [
      "with open(\"data/proteomics_data.csv\",'r') as f: # only do this things when that exc, 'r'- allow only reading, ei luba yle kirjutada, python 2s on vaja while ts\u00fcklit, et lugeda suurt faili.\n",
      "    lines=f.readlines()  # python 3s alloc. mems.\n",
      "    my_data={}\n",
      "    first=True\n",
      "    #header=lines.pop(0) # viskab v\u00e4lja, saab first line i koodi v\u00e4lja j\u00e4tta\n",
      "    for line in lines: # vali teine meetod lugemiseks large data  korral kui mem j\u00e4\u00e4b v\u00e4heseks\n",
      "        elements=line.split(\",\")\n",
      "        if first:\n",
      "            header=[]\n",
      "            for e in elements:\n",
      "                key=e.strip()\n",
      "                header.append(key)\n",
      "                my_data[key]=[]\n",
      "            header=[e.strip() for e in elements] \n",
      "            first=False\n",
      "            continue\n",
      "        for index, el in enumerate(elements):\n",
      "            key=header[index]\n",
      "            if key!=\"Uniprot\":\n",
      "                e=float(el)\n",
      "            my_data[key].append(el)\n",
      "    for key, values in my_data.items():\n",
      "        #print key, '==>', values\n",
      "        print('key {0}, values{1}\\n'.format(key, values))\n",
      "    \n"
     ],
     "language": "python",
     "metadata": {},
     "outputs": [
      {
       "output_type": "stream",
       "stream": "stdout",
       "text": [
        "key 10, values['2.06', '1.8', '-0.64', '-0.52', '1.35', '1.12', '0.93', '-0.85', '1.82', '-0.27', '-0.22', '-2.01', '-0.41', '-0.38', '0.75', '0.13', '1.18', '1.80 ']\n",
        "\n",
        "key 20, values['1.2', '3.57', '-0.71', '-1.34', '2.2', '0', '-0.93', '0', '-0.21', '-0.65', '0', '-0.63', '0.95', '-0.26', '1.03', '-0.49', '0.94', '3.57 ']\n",
        "\n",
        "key 30, values['1.61', '2.04', '-0.21', '-0.15', '1.47', '0.56', '-3.28', '-2.07', '-0.53', '0.82', '-0.36', '0.65', '-1.49', '-0.27', '0.44', '0.36', '1.27', '2.04 ']\n",
        "\n",
        "key 50, values['-0.03\\r\\n', '2.69\\r\\n', '-1.16\\r\\n', '-1.97\\r\\n', '0.51\\r\\n', '-0.01\\r\\n', '-0.4\\r\\n', '-1.89\\r\\n', '-1.16\\r\\n', '0\\r\\n', '0.32\\r\\n', '-0.97\\r\\n', '-1.41\\r\\n', '-1.56\\r\\n', '1.4\\r\\n', '-1.54\\r\\n', '1.53\\r\\n', '2.69 \\r\\n']\n",
        "\n",
        "key 40, values['0', '2.49', '-0.3', '-0.99', '1.16', '1.46', '0', '-0.26', '0', '-2.07', '-0.14', '0.15', '0', '0.2', '0', '-0.71', '1.98', '2.49 ']\n",
        "\n",
        "key Uniprot, values['P14060', 'P26439', 'P29372', 'Q96J02', 'P52209', 'P80370', 'P05112', 'Q9BQI3', 'O43318', 'O95257', 'Q7L7X3', 'P22694', 'Q13105', 'Q15329', 'P23771', 'Q92985', 'Q15788', 'Q15413']\n",
        "\n"
       ]
      }
     ],
     "prompt_number": 40
    },
    {
     "cell_type": "code",
     "collapsed": false,
     "input": [
      "for key, values in my_data.items():\n",
      "    print('key {0}, values{1}\\n'.format(key, values))"
     ],
     "language": "python",
     "metadata": {},
     "outputs": [
      {
       "output_type": "stream",
       "stream": "stdout",
       "text": [
        "key 10, values[2.06, 1.8, -0.64, -0.52, 1.35, 1.12, 0.93, -0.85, 1.82, -0.27, -0.22, -2.01, -0.41, -0.38, 0.75, 0.13, 1.18, 1.8]\n",
        "\n",
        "key 20, values[1.2, 3.57, -0.71, -1.34, 2.2, 0.0, -0.93, 0.0, -0.21, -0.65, 0.0, -0.63, 0.95, -0.26, 1.03, -0.49, 0.94, 3.57]\n",
        "\n",
        "key 30, values[1.61, 2.04, -0.21, -0.15, 1.47, 0.56, -3.28, -2.07, -0.53, 0.82, -0.36, 0.65, -1.49, -0.27, 0.44, 0.36, 1.27, 2.04]\n",
        "\n",
        "key 50, values[-0.03, 2.69, -1.16, -1.97, 0.51, -0.01, -0.4, -1.89, -1.16, 0.0, 0.32, -0.97, -1.41, -1.56, 1.4, -1.54, 1.53, 2.69]\n",
        "\n",
        "key 40, values[0.0, 2.49, -0.3, -0.99, 1.16, 1.46, 0.0, -0.26, 0.0, -2.07, -0.14, 0.15, 0.0, 0.2, 0.0, -0.71, 1.98, 2.49]\n",
        "\n",
        "key Uniprot, values['P14060', 'P26439', 'P29372', 'Q96J02', 'P52209', 'P80370', 'P05112', 'Q9BQI3', 'O43318', 'O95257', 'Q7L7X3', 'P22694', 'Q13105', 'Q15329', 'P23771', 'Q92985', 'Q15788', 'Q15413']\n",
        "\n"
       ]
      }
     ],
     "prompt_number": 37
    },
    {
     "cell_type": "code",
     "collapsed": false,
     "input": [
      "newlines={}\n",
      "with open(\"data/proteomics_data.csv\", \"r\") as f:\n",
      "    lines=f.readlines()\n",
      "    header=lines.pop(0)\n",
      "        \n",
      "    for line in lines:\n",
      "        newline=line.split(',')\n",
      "        title=newline.pop(0)   \n",
      "        newlines[title] = [float(x.strip()) for x in newline ]\n",
      "     \n",
      "print newlines "
     ],
     "language": "python",
     "metadata": {},
     "outputs": [
      {
       "output_type": "stream",
       "stream": "stdout",
       "text": [
        "{'P26439': [1.8, 3.57, 2.04, 2.49, 2.69], 'P29372': [-0.64, -0.71, -0.21, -0.3, -1.16], 'P05112': [0.93, -0.93, -3.28, 0.0, -0.4], 'Q96J02': [-0.52, -1.34, -0.15, -0.99, -1.97], 'Q9BQI3': [-0.85, 0.0, -2.07, -0.26, -1.89], 'Q15788': [1.18, 0.94, 1.27, 1.98, 1.53], 'P22694': [-2.01, -0.63, 0.65, 0.15, -0.97], 'P52209': [1.35, 2.2, 1.47, 1.16, 0.51], 'P14060': [2.06, 1.2, 1.61, 0.0, -0.03], 'Q7L7X3': [-0.22, 0.0, -0.36, -0.14, 0.32], 'P80370': [1.12, 0.0, 0.56, 1.46, -0.01], 'Q92985': [0.13, -0.49, 0.36, -0.71, -1.54], 'Q15413': [1.8, 3.57, 2.04, 2.49, 2.69], 'P23771': [0.75, 1.03, 0.44, 0.0, 1.4], 'O95257': [-0.27, -0.65, 0.82, -2.07, 0.0], 'Q15329': [-0.38, -0.26, -0.27, 0.2, -1.56], 'Q13105': [-0.41, 0.95, -1.49, 0.0, -1.41], 'O43318': [1.82, -0.21, -0.53, 0.0, -1.16]}\n"
       ]
      }
     ],
     "prompt_number": 42
    },
    {
     "cell_type": "code",
     "collapsed": false,
     "input": [],
     "language": "python",
     "metadata": {},
     "outputs": []
    }
   ],
   "metadata": {}
  }
 ]
}